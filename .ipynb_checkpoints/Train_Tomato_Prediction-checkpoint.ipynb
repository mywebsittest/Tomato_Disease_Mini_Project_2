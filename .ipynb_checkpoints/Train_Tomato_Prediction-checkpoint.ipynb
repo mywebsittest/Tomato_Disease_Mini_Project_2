{
 "cells": [
  {
   "cell_type": "markdown",
   "id": "f95b26b8-5b5a-4292-942c-82e3b5ac9708",
   "metadata": {},
   "source": [
    "### Importing libraries"
   ]
  },
  {
   "cell_type": "code",
   "execution_count": 90,
   "id": "38c51c8c-3254-4e21-9788-be40268e19c2",
   "metadata": {},
   "outputs": [],
   "source": [
    "import tensorflow as tf\n",
    "import matplotlib.pyplot as plt\n",
    "import pandas as pd\n",
    "import seaborn as sns"
   ]
  },
  {
   "cell_type": "markdown",
   "id": "350de75b-ce72-41b1-9f9b-b823f83a7711",
   "metadata": {},
   "source": [
    "### Data Preprocessing"
   ]
  },
  {
   "cell_type": "markdown",
   "id": "70de35b8-fbc7-456e-a223-45053fb82c48",
   "metadata": {},
   "source": [
    "### Training Image Preprocessing"
   ]
  },
  {
   "cell_type": "code",
   "execution_count": 2,
   "id": "8b1aec0f-960d-4afc-aec3-a9c61e911a3f",
   "metadata": {},
   "outputs": [
    {
     "name": "stdout",
     "output_type": "stream",
     "text": [
      "Found 2400 files belonging to 3 classes.\n"
     ]
    }
   ],
   "source": [
    "training_set = tf.keras.utils.image_dataset_from_directory(\n",
    "    'train',\n",
    "    labels = 'inferred',\n",
    "    label_mode = 'categorical',\n",
    "    class_names = None,\n",
    "    color_mode = 'rgb',\n",
    "    batch_size = 32,\n",
    "    image_size = (128, 128),\n",
    "    shuffle = True,\n",
    "    seed = None,\n",
    "    validation_split = None,\n",
    "    subset = None,\n",
    "    interpolation = 'bilinear',\n",
    "    follow_links = False,\n",
    "    crop_to_aspect_ratio = False,\n",
    ")\n",
    "    "
   ]
  },
  {
   "cell_type": "markdown",
   "id": "39876806-bfdc-49b5-94a2-e7d6aaa3e770",
   "metadata": {},
   "source": [
    "### Validation Image Preprocessing"
   ]
  },
  {
   "cell_type": "code",
   "execution_count": 3,
   "id": "a0684ed3-ff7a-48ca-9f51-03cb1f5d89ec",
   "metadata": {},
   "outputs": [
    {
     "name": "stdout",
     "output_type": "stream",
     "text": [
      "Found 2400 files belonging to 3 classes.\n"
     ]
    }
   ],
   "source": [
    "validation_set = tf.keras.utils.image_dataset_from_directory(\n",
    "    'validation',\n",
    "    labels = 'inferred',\n",
    "    label_mode = 'categorical',\n",
    "    class_names = None,\n",
    "    color_mode = 'rgb',\n",
    "    batch_size = 32,\n",
    "    image_size = (128, 128),\n",
    "    shuffle = True,\n",
    "    seed = None,\n",
    "    validation_split = None,\n",
    "    subset = None,\n",
    "    interpolation = 'bilinear',\n",
    "    follow_links = False,\n",
    "    crop_to_aspect_ratio = False,\n",
    ")\n",
    "    "
   ]
  },
  {
   "cell_type": "code",
   "execution_count": 4,
   "id": "15665b25-c887-4e04-9044-5eb6499077ab",
   "metadata": {},
   "outputs": [
    {
     "data": {
      "text/plain": [
       "<_PrefetchDataset element_spec=(TensorSpec(shape=(None, 128, 128, 3), dtype=tf.float32, name=None), TensorSpec(shape=(None, 3), dtype=tf.float32, name=None))>"
      ]
     },
     "execution_count": 4,
     "metadata": {},
     "output_type": "execute_result"
    }
   ],
   "source": [
    "training_set"
   ]
  },
  {
   "cell_type": "code",
   "execution_count": 5,
   "id": "208e5b03-75fd-4227-84e2-80e7704dc512",
   "metadata": {},
   "outputs": [
    {
     "name": "stdout",
     "output_type": "stream",
     "text": [
      "tf.Tensor(\n",
      "[[[[ 39.     39.375  46.25 ]\n",
      "   [ 39.625  41.     41.875]\n",
      "   [ 38.375  39.375  44.   ]\n",
      "   ...\n",
      "   [ 42.125  46.     40.375]\n",
      "   [ 39.75   43.     42.   ]\n",
      "   [ 42.125  45.     46.375]]\n",
      "\n",
      "  [[ 39.     41.     38.25 ]\n",
      "   [ 37.125  39.125  34.375]\n",
      "   [ 35.     37.     34.25 ]\n",
      "   ...\n",
      "   [ 45.125  45.875  41.25 ]\n",
      "   [ 47.5    45.25   46.25 ]\n",
      "   [ 46.125  45.875  47.75 ]]\n",
      "\n",
      "  [[ 40.875  39.875  45.75 ]\n",
      "   [ 37.     36.     41.875]\n",
      "   [ 37.     36.     41.875]\n",
      "   ...\n",
      "   [ 51.375  47.375  46.375]\n",
      "   [ 53.     49.     50.   ]\n",
      "   [ 49.75   45.75   46.75 ]]\n",
      "\n",
      "  ...\n",
      "\n",
      "  [[ 60.375  58.375  61.375]\n",
      "   [ 73.75   71.75   72.75 ]\n",
      "   [ 70.125  66.125  67.125]\n",
      "   ...\n",
      "   [ 57.     56.     62.   ]\n",
      "   [ 56.5    55.5    60.5  ]\n",
      "   [ 55.     54.     59.   ]]\n",
      "\n",
      "  [[ 56.875  51.875  57.875]\n",
      "   [ 82.5    77.875  81.75 ]\n",
      "   [ 73.125  71.125  72.125]\n",
      "   ...\n",
      "   [ 57.875  56.     61.   ]\n",
      "   [ 56.     53.25   60.125]\n",
      "   [ 54.     51.25   58.125]]\n",
      "\n",
      "  [[ 59.875  53.625  60.25 ]\n",
      "   [ 67.625  62.625  66.625]\n",
      "   [ 66.625  67.25   63.375]\n",
      "   ...\n",
      "   [ 58.125  56.125  57.875]\n",
      "   [ 54.25   52.25   56.   ]\n",
      "   [ 54.375  52.     57.75 ]]]\n",
      "\n",
      "\n",
      " [[[ 39.625  35.75   39.375]\n",
      "   [ 37.     37.625  33.75 ]\n",
      "   [ 32.5    37.125  40.125]\n",
      "   ...\n",
      "   [ 40.     42.     41.   ]\n",
      "   [ 41.25   41.25   41.25 ]\n",
      "   [ 44.875  42.875  43.875]]\n",
      "\n",
      "  [[ 35.75   35.     39.875]\n",
      "   [ 36.625  36.5    38.875]\n",
      "   [ 35.875  34.625  40.75 ]\n",
      "   ...\n",
      "   [ 42.75   42.75   42.75 ]\n",
      "   [ 41.     40.75   40.875]\n",
      "   [ 45.625  43.625  44.625]]\n",
      "\n",
      "  [[ 41.625  40.875  45.75 ]\n",
      "   [ 34.125  33.125  39.125]\n",
      "   [ 35.125  32.125  39.125]\n",
      "   ...\n",
      "   [ 44.875  44.875  44.875]\n",
      "   [ 45.125  43.125  44.125]\n",
      "   [ 45.875  41.875  42.875]]\n",
      "\n",
      "  ...\n",
      "\n",
      "  [[ 58.     57.     52.   ]\n",
      "   [ 66.5    65.5    61.5  ]\n",
      "   [ 63.875  62.875  60.875]\n",
      "   ...\n",
      "   [ 50.     50.     52.   ]\n",
      "   [ 50.875  50.875  50.875]\n",
      "   [ 52.     52.     54.   ]]\n",
      "\n",
      "  [[ 50.25   49.25   47.   ]\n",
      "   [ 66.875  65.875  63.625]\n",
      "   [ 64.875  63.875  61.875]\n",
      "   ...\n",
      "   [ 51.875  51.875  53.875]\n",
      "   [ 51.875  51.875  51.875]\n",
      "   [ 49.     49.     51.   ]]\n",
      "\n",
      "  [[ 46.     44.375  44.25 ]\n",
      "   [ 69.     68.     66.   ]\n",
      "   [ 60.     59.     57.   ]\n",
      "   ...\n",
      "   [ 53.     53.     55.   ]\n",
      "   [ 50.875  50.875  50.875]\n",
      "   [ 48.     48.     50.   ]]]\n",
      "\n",
      "\n",
      " [[[ 32.375  33.375  37.375]\n",
      "   [ 29.75   30.75   35.75 ]\n",
      "   [ 31.375  31.75   38.625]\n",
      "   ...\n",
      "   [ 32.     36.     35.75 ]\n",
      "   [ 32.375  37.     34.125]\n",
      "   [ 34.     38.625  35.75 ]]\n",
      "\n",
      "  [[ 31.75   33.125  36.75 ]\n",
      "   [ 30.625  32.     35.875]\n",
      "   [ 30.625  31.875  36.875]\n",
      "   ...\n",
      "   [ 31.25   35.125  38.375]\n",
      "   [ 32.25   36.25   37.5  ]\n",
      "   [ 32.125  36.125  37.125]]\n",
      "\n",
      "  [[ 30.875  34.875  35.875]\n",
      "   [ 27.     31.     34.   ]\n",
      "   [ 25.     28.     33.   ]\n",
      "   ...\n",
      "   [ 34.     37.     42.   ]\n",
      "   [ 33.     37.     40.   ]\n",
      "   [ 32.     36.     37.   ]]\n",
      "\n",
      "  ...\n",
      "\n",
      "  [[ 43.75   47.75   46.75 ]\n",
      "   [ 51.75   55.75   54.75 ]\n",
      "   [ 47.     51.     50.   ]\n",
      "   ...\n",
      "   [ 40.     44.     45.   ]\n",
      "   [ 40.     44.     47.   ]\n",
      "   [ 36.875  39.875  44.875]]\n",
      "\n",
      "  [[ 38.375  42.375  41.375]\n",
      "   [ 49.     53.     52.   ]\n",
      "   [ 47.75   51.75   50.75 ]\n",
      "   ...\n",
      "   [ 39.     43.     45.75 ]\n",
      "   [ 41.     44.125  48.875]\n",
      "   [ 39.875  42.875  47.875]]\n",
      "\n",
      "  [[ 35.625  39.625  38.625]\n",
      "   [ 58.625  62.625  61.625]\n",
      "   [ 47.25   51.25   50.25 ]\n",
      "   ...\n",
      "   [ 39.     43.     46.   ]\n",
      "   [ 40.     43.     48.   ]\n",
      "   [ 38.375  41.375  48.375]]]\n",
      "\n",
      "\n",
      " ...\n",
      "\n",
      "\n",
      " [[[ 70.875  70.875  82.875]\n",
      "   [ 78.25   77.25   84.   ]\n",
      "   [ 88.25   84.375  88.   ]\n",
      "   ...\n",
      "   [ 52.375  52.375  52.375]\n",
      "   [ 53.625  51.625  54.625]\n",
      "   [ 57.875  52.875  58.875]]\n",
      "\n",
      "  [[ 59.375  60.375  65.25 ]\n",
      "   [ 67.125  65.25   78.375]\n",
      "   [ 76.25   76.5    76.375]\n",
      "   ...\n",
      "   [ 53.875  53.875  54.125]\n",
      "   [ 54.     52.     55.   ]\n",
      "   [ 57.125  52.125  56.125]]\n",
      "\n",
      "  [[ 51.375  52.375  54.375]\n",
      "   [ 53.5    53.5    63.75 ]\n",
      "   [ 53.75   57.75   56.75 ]\n",
      "   ...\n",
      "   [ 50.875  50.875  52.875]\n",
      "   [ 62.125  60.125  63.125]\n",
      "   [ 57.     52.     56.   ]]\n",
      "\n",
      "  ...\n",
      "\n",
      "  [[ 93.875  93.875  85.875]\n",
      "   [ 93.5    93.5    91.5  ]\n",
      "   [109.    108.    103.125]\n",
      "   ...\n",
      "   [ 61.     65.     68.   ]\n",
      "   [ 61.125  65.125  68.125]\n",
      "   [ 60.     63.     70.   ]]\n",
      "\n",
      "  [[ 85.25   84.25   80.125]\n",
      "   [ 83.75   88.375  84.5  ]\n",
      "   [ 95.625  95.5    95.25 ]\n",
      "   ...\n",
      "   [ 60.     64.     67.   ]\n",
      "   [ 64.875  68.875  71.875]\n",
      "   [ 58.     61.     68.   ]]\n",
      "\n",
      "  [[ 68.625  70.875  75.5  ]\n",
      "   [ 73.5    81.375  80.75 ]\n",
      "   [ 80.5    83.375  84.75 ]\n",
      "   ...\n",
      "   [ 60.625  64.625  67.625]\n",
      "   [ 60.625  64.625  67.625]\n",
      "   [ 58.375  61.375  68.375]]]\n",
      "\n",
      "\n",
      " [[[ 68.625  64.75   70.375]\n",
      "   [ 76.625  76.625  74.625]\n",
      "   [ 74.75   71.5    72.5  ]\n",
      "   ...\n",
      "   [ 55.     55.     53.75 ]\n",
      "   [ 62.25   58.25   55.25 ]\n",
      "   [ 58.625  50.75   52.125]]\n",
      "\n",
      "  [[ 67.125  65.125  70.125]\n",
      "   [ 69.125  71.     70.375]\n",
      "   [ 77.75   76.     78.875]\n",
      "   ...\n",
      "   [ 53.875  53.875  55.875]\n",
      "   [ 59.625  55.875  55.125]\n",
      "   [ 59.     53.125  57.375]]\n",
      "\n",
      "  [[ 63.875  63.875  65.875]\n",
      "   [ 64.25   68.25   71.25 ]\n",
      "   [ 73.125  72.125  77.125]\n",
      "   ...\n",
      "   [ 56.     55.875  58.25 ]\n",
      "   [ 64.875  62.875  63.875]\n",
      "   [ 55.875  53.875  58.875]]\n",
      "\n",
      "  ...\n",
      "\n",
      "  [[ 97.625  96.625  94.625]\n",
      "   [ 95.375  96.375  91.375]\n",
      "   [109.5   108.5   104.5  ]\n",
      "   ...\n",
      "   [ 65.     66.     70.   ]\n",
      "   [ 61.25   62.375  64.   ]\n",
      "   [ 63.875  64.875  66.875]]\n",
      "\n",
      "  [[ 86.375  84.375  89.125]\n",
      "   [ 88.     91.75   92.5  ]\n",
      "   [104.375 104.125 106.   ]\n",
      "   ...\n",
      "   [ 60.5    63.25   68.25 ]\n",
      "   [ 65.75   66.     65.875]\n",
      "   [ 60.375  63.125  68.   ]]\n",
      "\n",
      "  [[ 74.125  75.375  86.625]\n",
      "   [ 80.375  86.625  93.875]\n",
      "   [ 83.25   85.5    91.75 ]\n",
      "   ...\n",
      "   [ 56.625  59.     69.875]\n",
      "   [ 64.375  63.125  67.   ]\n",
      "   [ 61.625  64.625  73.625]]]\n",
      "\n",
      "\n",
      " [[[ 38.375  41.     34.75 ]\n",
      "   [ 39.25   41.25   38.25 ]\n",
      "   [ 42.375  43.375  45.375]\n",
      "   ...\n",
      "   [ 37.75   38.75   42.75 ]\n",
      "   [ 37.     36.     41.   ]\n",
      "   [ 41.     39.     44.   ]]\n",
      "\n",
      "  [[ 38.875  40.875  36.125]\n",
      "   [ 36.125  38.125  35.375]\n",
      "   [ 40.875  41.875  43.875]\n",
      "   ...\n",
      "   [ 40.125  41.25   42.875]\n",
      "   [ 38.125  38.125  39.875]\n",
      "   [ 40.     38.     40.75 ]]\n",
      "\n",
      "  [[ 37.     37.     37.   ]\n",
      "   [ 40.     40.     40.   ]\n",
      "   [ 41.     41.     43.   ]\n",
      "   ...\n",
      "   [ 41.     43.     42.   ]\n",
      "   [ 42.     42.     42.   ]\n",
      "   [ 40.     38.     39.   ]]\n",
      "\n",
      "  ...\n",
      "\n",
      "  [[ 47.     46.     44.   ]\n",
      "   [ 63.     64.     59.   ]\n",
      "   [ 66.875  69.875  62.875]\n",
      "   ...\n",
      "   [ 44.     45.     47.   ]\n",
      "   [ 40.875  41.875  43.875]\n",
      "   [ 42.125  43.125  45.125]]\n",
      "\n",
      "  [[ 53.375  52.375  48.375]\n",
      "   [ 58.75   59.75   54.75 ]\n",
      "   [ 56.375  58.5    53.25 ]\n",
      "   ...\n",
      "   [ 43.     44.     46.   ]\n",
      "   [ 42.     43.     45.   ]\n",
      "   [ 43.     44.     46.   ]]\n",
      "\n",
      "  [[ 59.625  58.     57.875]\n",
      "   [ 53.125  53.125  52.375]\n",
      "   [ 43.625  45.     45.875]\n",
      "   ...\n",
      "   [ 42.625  43.625  45.625]\n",
      "   [ 42.     43.     45.   ]\n",
      "   [ 43.     44.     46.   ]]]], shape=(32, 128, 128, 3), dtype=float32) (32, 128, 128, 3)\n",
      "tf.Tensor(\n",
      "[[1. 0. 0.]\n",
      " [0. 0. 1.]\n",
      " [1. 0. 0.]\n",
      " [1. 0. 0.]\n",
      " [1. 0. 0.]\n",
      " [1. 0. 0.]\n",
      " [0. 1. 0.]\n",
      " [1. 0. 0.]\n",
      " [0. 1. 0.]\n",
      " [1. 0. 0.]\n",
      " [1. 0. 0.]\n",
      " [1. 0. 0.]\n",
      " [0. 0. 1.]\n",
      " [0. 1. 0.]\n",
      " [1. 0. 0.]\n",
      " [0. 1. 0.]\n",
      " [0. 1. 0.]\n",
      " [0. 1. 0.]\n",
      " [0. 1. 0.]\n",
      " [0. 1. 0.]\n",
      " [1. 0. 0.]\n",
      " [1. 0. 0.]\n",
      " [0. 0. 1.]\n",
      " [0. 0. 1.]\n",
      " [0. 1. 0.]\n",
      " [0. 0. 1.]\n",
      " [0. 1. 0.]\n",
      " [0. 1. 0.]\n",
      " [0. 0. 1.]\n",
      " [1. 0. 0.]\n",
      " [1. 0. 0.]\n",
      " [1. 0. 0.]], shape=(32, 3), dtype=float32) (32, 3)\n"
     ]
    }
   ],
   "source": [
    "for x,y in training_set:\n",
    "    print(x, x.shape)\n",
    "    print(y, y.shape)\n",
    "    break"
   ]
  },
  {
   "cell_type": "markdown",
   "id": "6e767822-a52e-4c98-8cdf-cebdf6174e34",
   "metadata": {},
   "source": [
    "### Building Model"
   ]
  },
  {
   "cell_type": "code",
   "execution_count": 49,
   "id": "8e932bed-b1af-4e77-bdf7-1ad108c2bfcd",
   "metadata": {},
   "outputs": [],
   "source": [
    "from tensorflow.keras.layers import Dense, Conv2D, MaxPool2D, Flatten, InputLayer, Dropout\n",
    "from tensorflow.keras.models import Sequential\n",
    "from keras.backend import clear_session\n",
    "clear_session()"
   ]
  },
  {
   "cell_type": "code",
   "execution_count": 50,
   "id": "424173ae-fe1f-4077-8ce1-d10c016f97e5",
   "metadata": {},
   "outputs": [],
   "source": [
    "model = Sequential()"
   ]
  },
  {
   "cell_type": "code",
   "execution_count": 51,
   "id": "c1d5cbdb-85bd-4978-b40e-528a85db9925",
   "metadata": {},
   "outputs": [],
   "source": [
    "\n",
    "# Add an InputLayer to define the input shape\n",
    "model.add(InputLayer(input_shape=(128, 128, 3)))\n",
    "\n",
    "# Add Conv2D and other layers\n",
    "model.add(Conv2D(filters=64, kernel_size=3, padding='same', activation='relu'))\n",
    "model.add(Conv2D(filters=64, kernel_size=3, activation='relu'))\n",
    "model.add(MaxPool2D(pool_size=2, strides=2))\n",
    "\n",
    "model.add(Conv2D(filters=128, kernel_size=3, padding='same', activation='relu'))\n",
    "model.add(Conv2D(filters=128, kernel_size=3, activation='relu'))\n",
    "model.add(MaxPool2D(pool_size=2, strides=2))\n",
    "\n",
    "model.add(Conv2D(filters=256, kernel_size=3, padding='same', activation='relu'))\n",
    "model.add(Conv2D(filters=256, kernel_size=3, activation='relu'))\n",
    "model.add(MaxPool2D(pool_size=2, strides=2))\n",
    "\n",
    "model.add(Conv2D(filters=512, kernel_size=3, padding='same', activation='relu'))\n",
    "model.add(Conv2D(filters=512, kernel_size=3, activation='relu'))\n",
    "model.add(MaxPool2D(pool_size=2, strides=2))\n",
    "\n",
    "model.add(Dropout(0.25))\n",
    "\n",
    "model.add(Flatten())\n",
    "model.add(Dense(units=128, activation='relu'))\n",
    "\n",
    "model.add(Dropout(0.4))\n",
    "\n",
    "model.add(Dense(units=3, activation='softmax'))  # Ensure the output layer has 3 units for your classes\n"
   ]
  },
  {
   "cell_type": "markdown",
   "id": "84833a7b-d005-46d8-943e-d1085d3cbaa6",
   "metadata": {},
   "source": [
    "### Compiling Model"
   ]
  },
  {
   "cell_type": "code",
   "execution_count": 52,
   "id": "771764f9-930c-43ba-ac74-25773c21269a",
   "metadata": {},
   "outputs": [],
   "source": [
    "model.compile(optimizer = tf.keras.optimizers.Adam(learning_rate = 0.0001), loss = 'categorical_crossentropy', metrics = ['accuracy'])"
   ]
  },
  {
   "cell_type": "code",
   "execution_count": 53,
   "id": "2310abb1-2c98-43cb-b639-926d88b9541a",
   "metadata": {},
   "outputs": [
    {
     "data": {
      "text/html": [
       "<pre style=\"white-space:pre;overflow-x:auto;line-height:normal;font-family:Menlo,'DejaVu Sans Mono',consolas,'Courier New',monospace\"><span style=\"font-weight: bold\">Model: \"sequential\"</span>\n",
       "</pre>\n"
      ],
      "text/plain": [
       "\u001b[1mModel: \"sequential\"\u001b[0m\n"
      ]
     },
     "metadata": {},
     "output_type": "display_data"
    },
    {
     "data": {
      "text/html": [
       "<pre style=\"white-space:pre;overflow-x:auto;line-height:normal;font-family:Menlo,'DejaVu Sans Mono',consolas,'Courier New',monospace\">┏━━━━━━━━━━━━━━━━━━━━━━━━━━━━━━━━━━━━━━┳━━━━━━━━━━━━━━━━━━━━━━━━━━━━━┳━━━━━━━━━━━━━━━━━┓\n",
       "┃<span style=\"font-weight: bold\"> Layer (type)                         </span>┃<span style=\"font-weight: bold\"> Output Shape                </span>┃<span style=\"font-weight: bold\">         Param # </span>┃\n",
       "┡━━━━━━━━━━━━━━━━━━━━━━━━━━━━━━━━━━━━━━╇━━━━━━━━━━━━━━━━━━━━━━━━━━━━━╇━━━━━━━━━━━━━━━━━┩\n",
       "│ conv2d (<span style=\"color: #0087ff; text-decoration-color: #0087ff\">Conv2D</span>)                      │ (<span style=\"color: #00d7ff; text-decoration-color: #00d7ff\">None</span>, <span style=\"color: #00af00; text-decoration-color: #00af00\">128</span>, <span style=\"color: #00af00; text-decoration-color: #00af00\">128</span>, <span style=\"color: #00af00; text-decoration-color: #00af00\">64</span>)        │           <span style=\"color: #00af00; text-decoration-color: #00af00\">1,792</span> │\n",
       "├──────────────────────────────────────┼─────────────────────────────┼─────────────────┤\n",
       "│ conv2d_1 (<span style=\"color: #0087ff; text-decoration-color: #0087ff\">Conv2D</span>)                    │ (<span style=\"color: #00d7ff; text-decoration-color: #00d7ff\">None</span>, <span style=\"color: #00af00; text-decoration-color: #00af00\">126</span>, <span style=\"color: #00af00; text-decoration-color: #00af00\">126</span>, <span style=\"color: #00af00; text-decoration-color: #00af00\">64</span>)        │          <span style=\"color: #00af00; text-decoration-color: #00af00\">36,928</span> │\n",
       "├──────────────────────────────────────┼─────────────────────────────┼─────────────────┤\n",
       "│ max_pooling2d (<span style=\"color: #0087ff; text-decoration-color: #0087ff\">MaxPooling2D</span>)         │ (<span style=\"color: #00d7ff; text-decoration-color: #00d7ff\">None</span>, <span style=\"color: #00af00; text-decoration-color: #00af00\">63</span>, <span style=\"color: #00af00; text-decoration-color: #00af00\">63</span>, <span style=\"color: #00af00; text-decoration-color: #00af00\">64</span>)          │               <span style=\"color: #00af00; text-decoration-color: #00af00\">0</span> │\n",
       "├──────────────────────────────────────┼─────────────────────────────┼─────────────────┤\n",
       "│ conv2d_2 (<span style=\"color: #0087ff; text-decoration-color: #0087ff\">Conv2D</span>)                    │ (<span style=\"color: #00d7ff; text-decoration-color: #00d7ff\">None</span>, <span style=\"color: #00af00; text-decoration-color: #00af00\">63</span>, <span style=\"color: #00af00; text-decoration-color: #00af00\">63</span>, <span style=\"color: #00af00; text-decoration-color: #00af00\">128</span>)         │          <span style=\"color: #00af00; text-decoration-color: #00af00\">73,856</span> │\n",
       "├──────────────────────────────────────┼─────────────────────────────┼─────────────────┤\n",
       "│ conv2d_3 (<span style=\"color: #0087ff; text-decoration-color: #0087ff\">Conv2D</span>)                    │ (<span style=\"color: #00d7ff; text-decoration-color: #00d7ff\">None</span>, <span style=\"color: #00af00; text-decoration-color: #00af00\">61</span>, <span style=\"color: #00af00; text-decoration-color: #00af00\">61</span>, <span style=\"color: #00af00; text-decoration-color: #00af00\">128</span>)         │         <span style=\"color: #00af00; text-decoration-color: #00af00\">147,584</span> │\n",
       "├──────────────────────────────────────┼─────────────────────────────┼─────────────────┤\n",
       "│ max_pooling2d_1 (<span style=\"color: #0087ff; text-decoration-color: #0087ff\">MaxPooling2D</span>)       │ (<span style=\"color: #00d7ff; text-decoration-color: #00d7ff\">None</span>, <span style=\"color: #00af00; text-decoration-color: #00af00\">30</span>, <span style=\"color: #00af00; text-decoration-color: #00af00\">30</span>, <span style=\"color: #00af00; text-decoration-color: #00af00\">128</span>)         │               <span style=\"color: #00af00; text-decoration-color: #00af00\">0</span> │\n",
       "├──────────────────────────────────────┼─────────────────────────────┼─────────────────┤\n",
       "│ conv2d_4 (<span style=\"color: #0087ff; text-decoration-color: #0087ff\">Conv2D</span>)                    │ (<span style=\"color: #00d7ff; text-decoration-color: #00d7ff\">None</span>, <span style=\"color: #00af00; text-decoration-color: #00af00\">30</span>, <span style=\"color: #00af00; text-decoration-color: #00af00\">30</span>, <span style=\"color: #00af00; text-decoration-color: #00af00\">256</span>)         │         <span style=\"color: #00af00; text-decoration-color: #00af00\">295,168</span> │\n",
       "├──────────────────────────────────────┼─────────────────────────────┼─────────────────┤\n",
       "│ conv2d_5 (<span style=\"color: #0087ff; text-decoration-color: #0087ff\">Conv2D</span>)                    │ (<span style=\"color: #00d7ff; text-decoration-color: #00d7ff\">None</span>, <span style=\"color: #00af00; text-decoration-color: #00af00\">28</span>, <span style=\"color: #00af00; text-decoration-color: #00af00\">28</span>, <span style=\"color: #00af00; text-decoration-color: #00af00\">256</span>)         │         <span style=\"color: #00af00; text-decoration-color: #00af00\">590,080</span> │\n",
       "├──────────────────────────────────────┼─────────────────────────────┼─────────────────┤\n",
       "│ max_pooling2d_2 (<span style=\"color: #0087ff; text-decoration-color: #0087ff\">MaxPooling2D</span>)       │ (<span style=\"color: #00d7ff; text-decoration-color: #00d7ff\">None</span>, <span style=\"color: #00af00; text-decoration-color: #00af00\">14</span>, <span style=\"color: #00af00; text-decoration-color: #00af00\">14</span>, <span style=\"color: #00af00; text-decoration-color: #00af00\">256</span>)         │               <span style=\"color: #00af00; text-decoration-color: #00af00\">0</span> │\n",
       "├──────────────────────────────────────┼─────────────────────────────┼─────────────────┤\n",
       "│ conv2d_6 (<span style=\"color: #0087ff; text-decoration-color: #0087ff\">Conv2D</span>)                    │ (<span style=\"color: #00d7ff; text-decoration-color: #00d7ff\">None</span>, <span style=\"color: #00af00; text-decoration-color: #00af00\">14</span>, <span style=\"color: #00af00; text-decoration-color: #00af00\">14</span>, <span style=\"color: #00af00; text-decoration-color: #00af00\">512</span>)         │       <span style=\"color: #00af00; text-decoration-color: #00af00\">1,180,160</span> │\n",
       "├──────────────────────────────────────┼─────────────────────────────┼─────────────────┤\n",
       "│ conv2d_7 (<span style=\"color: #0087ff; text-decoration-color: #0087ff\">Conv2D</span>)                    │ (<span style=\"color: #00d7ff; text-decoration-color: #00d7ff\">None</span>, <span style=\"color: #00af00; text-decoration-color: #00af00\">12</span>, <span style=\"color: #00af00; text-decoration-color: #00af00\">12</span>, <span style=\"color: #00af00; text-decoration-color: #00af00\">512</span>)         │       <span style=\"color: #00af00; text-decoration-color: #00af00\">2,359,808</span> │\n",
       "├──────────────────────────────────────┼─────────────────────────────┼─────────────────┤\n",
       "│ max_pooling2d_3 (<span style=\"color: #0087ff; text-decoration-color: #0087ff\">MaxPooling2D</span>)       │ (<span style=\"color: #00d7ff; text-decoration-color: #00d7ff\">None</span>, <span style=\"color: #00af00; text-decoration-color: #00af00\">6</span>, <span style=\"color: #00af00; text-decoration-color: #00af00\">6</span>, <span style=\"color: #00af00; text-decoration-color: #00af00\">512</span>)           │               <span style=\"color: #00af00; text-decoration-color: #00af00\">0</span> │\n",
       "├──────────────────────────────────────┼─────────────────────────────┼─────────────────┤\n",
       "│ dropout (<span style=\"color: #0087ff; text-decoration-color: #0087ff\">Dropout</span>)                    │ (<span style=\"color: #00d7ff; text-decoration-color: #00d7ff\">None</span>, <span style=\"color: #00af00; text-decoration-color: #00af00\">6</span>, <span style=\"color: #00af00; text-decoration-color: #00af00\">6</span>, <span style=\"color: #00af00; text-decoration-color: #00af00\">512</span>)           │               <span style=\"color: #00af00; text-decoration-color: #00af00\">0</span> │\n",
       "├──────────────────────────────────────┼─────────────────────────────┼─────────────────┤\n",
       "│ flatten (<span style=\"color: #0087ff; text-decoration-color: #0087ff\">Flatten</span>)                    │ (<span style=\"color: #00d7ff; text-decoration-color: #00d7ff\">None</span>, <span style=\"color: #00af00; text-decoration-color: #00af00\">18432</span>)               │               <span style=\"color: #00af00; text-decoration-color: #00af00\">0</span> │\n",
       "├──────────────────────────────────────┼─────────────────────────────┼─────────────────┤\n",
       "│ dense (<span style=\"color: #0087ff; text-decoration-color: #0087ff\">Dense</span>)                        │ (<span style=\"color: #00d7ff; text-decoration-color: #00d7ff\">None</span>, <span style=\"color: #00af00; text-decoration-color: #00af00\">128</span>)                 │       <span style=\"color: #00af00; text-decoration-color: #00af00\">2,359,424</span> │\n",
       "├──────────────────────────────────────┼─────────────────────────────┼─────────────────┤\n",
       "│ dropout_1 (<span style=\"color: #0087ff; text-decoration-color: #0087ff\">Dropout</span>)                  │ (<span style=\"color: #00d7ff; text-decoration-color: #00d7ff\">None</span>, <span style=\"color: #00af00; text-decoration-color: #00af00\">128</span>)                 │               <span style=\"color: #00af00; text-decoration-color: #00af00\">0</span> │\n",
       "├──────────────────────────────────────┼─────────────────────────────┼─────────────────┤\n",
       "│ dense_1 (<span style=\"color: #0087ff; text-decoration-color: #0087ff\">Dense</span>)                      │ (<span style=\"color: #00d7ff; text-decoration-color: #00d7ff\">None</span>, <span style=\"color: #00af00; text-decoration-color: #00af00\">3</span>)                   │             <span style=\"color: #00af00; text-decoration-color: #00af00\">387</span> │\n",
       "└──────────────────────────────────────┴─────────────────────────────┴─────────────────┘\n",
       "</pre>\n"
      ],
      "text/plain": [
       "┏━━━━━━━━━━━━━━━━━━━━━━━━━━━━━━━━━━━━━━┳━━━━━━━━━━━━━━━━━━━━━━━━━━━━━┳━━━━━━━━━━━━━━━━━┓\n",
       "┃\u001b[1m \u001b[0m\u001b[1mLayer (type)                        \u001b[0m\u001b[1m \u001b[0m┃\u001b[1m \u001b[0m\u001b[1mOutput Shape               \u001b[0m\u001b[1m \u001b[0m┃\u001b[1m \u001b[0m\u001b[1m        Param #\u001b[0m\u001b[1m \u001b[0m┃\n",
       "┡━━━━━━━━━━━━━━━━━━━━━━━━━━━━━━━━━━━━━━╇━━━━━━━━━━━━━━━━━━━━━━━━━━━━━╇━━━━━━━━━━━━━━━━━┩\n",
       "│ conv2d (\u001b[38;5;33mConv2D\u001b[0m)                      │ (\u001b[38;5;45mNone\u001b[0m, \u001b[38;5;34m128\u001b[0m, \u001b[38;5;34m128\u001b[0m, \u001b[38;5;34m64\u001b[0m)        │           \u001b[38;5;34m1,792\u001b[0m │\n",
       "├──────────────────────────────────────┼─────────────────────────────┼─────────────────┤\n",
       "│ conv2d_1 (\u001b[38;5;33mConv2D\u001b[0m)                    │ (\u001b[38;5;45mNone\u001b[0m, \u001b[38;5;34m126\u001b[0m, \u001b[38;5;34m126\u001b[0m, \u001b[38;5;34m64\u001b[0m)        │          \u001b[38;5;34m36,928\u001b[0m │\n",
       "├──────────────────────────────────────┼─────────────────────────────┼─────────────────┤\n",
       "│ max_pooling2d (\u001b[38;5;33mMaxPooling2D\u001b[0m)         │ (\u001b[38;5;45mNone\u001b[0m, \u001b[38;5;34m63\u001b[0m, \u001b[38;5;34m63\u001b[0m, \u001b[38;5;34m64\u001b[0m)          │               \u001b[38;5;34m0\u001b[0m │\n",
       "├──────────────────────────────────────┼─────────────────────────────┼─────────────────┤\n",
       "│ conv2d_2 (\u001b[38;5;33mConv2D\u001b[0m)                    │ (\u001b[38;5;45mNone\u001b[0m, \u001b[38;5;34m63\u001b[0m, \u001b[38;5;34m63\u001b[0m, \u001b[38;5;34m128\u001b[0m)         │          \u001b[38;5;34m73,856\u001b[0m │\n",
       "├──────────────────────────────────────┼─────────────────────────────┼─────────────────┤\n",
       "│ conv2d_3 (\u001b[38;5;33mConv2D\u001b[0m)                    │ (\u001b[38;5;45mNone\u001b[0m, \u001b[38;5;34m61\u001b[0m, \u001b[38;5;34m61\u001b[0m, \u001b[38;5;34m128\u001b[0m)         │         \u001b[38;5;34m147,584\u001b[0m │\n",
       "├──────────────────────────────────────┼─────────────────────────────┼─────────────────┤\n",
       "│ max_pooling2d_1 (\u001b[38;5;33mMaxPooling2D\u001b[0m)       │ (\u001b[38;5;45mNone\u001b[0m, \u001b[38;5;34m30\u001b[0m, \u001b[38;5;34m30\u001b[0m, \u001b[38;5;34m128\u001b[0m)         │               \u001b[38;5;34m0\u001b[0m │\n",
       "├──────────────────────────────────────┼─────────────────────────────┼─────────────────┤\n",
       "│ conv2d_4 (\u001b[38;5;33mConv2D\u001b[0m)                    │ (\u001b[38;5;45mNone\u001b[0m, \u001b[38;5;34m30\u001b[0m, \u001b[38;5;34m30\u001b[0m, \u001b[38;5;34m256\u001b[0m)         │         \u001b[38;5;34m295,168\u001b[0m │\n",
       "├──────────────────────────────────────┼─────────────────────────────┼─────────────────┤\n",
       "│ conv2d_5 (\u001b[38;5;33mConv2D\u001b[0m)                    │ (\u001b[38;5;45mNone\u001b[0m, \u001b[38;5;34m28\u001b[0m, \u001b[38;5;34m28\u001b[0m, \u001b[38;5;34m256\u001b[0m)         │         \u001b[38;5;34m590,080\u001b[0m │\n",
       "├──────────────────────────────────────┼─────────────────────────────┼─────────────────┤\n",
       "│ max_pooling2d_2 (\u001b[38;5;33mMaxPooling2D\u001b[0m)       │ (\u001b[38;5;45mNone\u001b[0m, \u001b[38;5;34m14\u001b[0m, \u001b[38;5;34m14\u001b[0m, \u001b[38;5;34m256\u001b[0m)         │               \u001b[38;5;34m0\u001b[0m │\n",
       "├──────────────────────────────────────┼─────────────────────────────┼─────────────────┤\n",
       "│ conv2d_6 (\u001b[38;5;33mConv2D\u001b[0m)                    │ (\u001b[38;5;45mNone\u001b[0m, \u001b[38;5;34m14\u001b[0m, \u001b[38;5;34m14\u001b[0m, \u001b[38;5;34m512\u001b[0m)         │       \u001b[38;5;34m1,180,160\u001b[0m │\n",
       "├──────────────────────────────────────┼─────────────────────────────┼─────────────────┤\n",
       "│ conv2d_7 (\u001b[38;5;33mConv2D\u001b[0m)                    │ (\u001b[38;5;45mNone\u001b[0m, \u001b[38;5;34m12\u001b[0m, \u001b[38;5;34m12\u001b[0m, \u001b[38;5;34m512\u001b[0m)         │       \u001b[38;5;34m2,359,808\u001b[0m │\n",
       "├──────────────────────────────────────┼─────────────────────────────┼─────────────────┤\n",
       "│ max_pooling2d_3 (\u001b[38;5;33mMaxPooling2D\u001b[0m)       │ (\u001b[38;5;45mNone\u001b[0m, \u001b[38;5;34m6\u001b[0m, \u001b[38;5;34m6\u001b[0m, \u001b[38;5;34m512\u001b[0m)           │               \u001b[38;5;34m0\u001b[0m │\n",
       "├──────────────────────────────────────┼─────────────────────────────┼─────────────────┤\n",
       "│ dropout (\u001b[38;5;33mDropout\u001b[0m)                    │ (\u001b[38;5;45mNone\u001b[0m, \u001b[38;5;34m6\u001b[0m, \u001b[38;5;34m6\u001b[0m, \u001b[38;5;34m512\u001b[0m)           │               \u001b[38;5;34m0\u001b[0m │\n",
       "├──────────────────────────────────────┼─────────────────────────────┼─────────────────┤\n",
       "│ flatten (\u001b[38;5;33mFlatten\u001b[0m)                    │ (\u001b[38;5;45mNone\u001b[0m, \u001b[38;5;34m18432\u001b[0m)               │               \u001b[38;5;34m0\u001b[0m │\n",
       "├──────────────────────────────────────┼─────────────────────────────┼─────────────────┤\n",
       "│ dense (\u001b[38;5;33mDense\u001b[0m)                        │ (\u001b[38;5;45mNone\u001b[0m, \u001b[38;5;34m128\u001b[0m)                 │       \u001b[38;5;34m2,359,424\u001b[0m │\n",
       "├──────────────────────────────────────┼─────────────────────────────┼─────────────────┤\n",
       "│ dropout_1 (\u001b[38;5;33mDropout\u001b[0m)                  │ (\u001b[38;5;45mNone\u001b[0m, \u001b[38;5;34m128\u001b[0m)                 │               \u001b[38;5;34m0\u001b[0m │\n",
       "├──────────────────────────────────────┼─────────────────────────────┼─────────────────┤\n",
       "│ dense_1 (\u001b[38;5;33mDense\u001b[0m)                      │ (\u001b[38;5;45mNone\u001b[0m, \u001b[38;5;34m3\u001b[0m)                   │             \u001b[38;5;34m387\u001b[0m │\n",
       "└──────────────────────────────────────┴─────────────────────────────┴─────────────────┘\n"
      ]
     },
     "metadata": {},
     "output_type": "display_data"
    },
    {
     "data": {
      "text/html": [
       "<pre style=\"white-space:pre;overflow-x:auto;line-height:normal;font-family:Menlo,'DejaVu Sans Mono',consolas,'Courier New',monospace\"><span style=\"font-weight: bold\"> Total params: </span><span style=\"color: #00af00; text-decoration-color: #00af00\">7,045,187</span> (26.88 MB)\n",
       "</pre>\n"
      ],
      "text/plain": [
       "\u001b[1m Total params: \u001b[0m\u001b[38;5;34m7,045,187\u001b[0m (26.88 MB)\n"
      ]
     },
     "metadata": {},
     "output_type": "display_data"
    },
    {
     "data": {
      "text/html": [
       "<pre style=\"white-space:pre;overflow-x:auto;line-height:normal;font-family:Menlo,'DejaVu Sans Mono',consolas,'Courier New',monospace\"><span style=\"font-weight: bold\"> Trainable params: </span><span style=\"color: #00af00; text-decoration-color: #00af00\">7,045,187</span> (26.88 MB)\n",
       "</pre>\n"
      ],
      "text/plain": [
       "\u001b[1m Trainable params: \u001b[0m\u001b[38;5;34m7,045,187\u001b[0m (26.88 MB)\n"
      ]
     },
     "metadata": {},
     "output_type": "display_data"
    },
    {
     "data": {
      "text/html": [
       "<pre style=\"white-space:pre;overflow-x:auto;line-height:normal;font-family:Menlo,'DejaVu Sans Mono',consolas,'Courier New',monospace\"><span style=\"font-weight: bold\"> Non-trainable params: </span><span style=\"color: #00af00; text-decoration-color: #00af00\">0</span> (0.00 B)\n",
       "</pre>\n"
      ],
      "text/plain": [
       "\u001b[1m Non-trainable params: \u001b[0m\u001b[38;5;34m0\u001b[0m (0.00 B)\n"
      ]
     },
     "metadata": {},
     "output_type": "display_data"
    }
   ],
   "source": [
    "model.summary()"
   ]
  },
  {
   "cell_type": "markdown",
   "id": "2a6b4962-b70a-41ce-b612-df614109ac97",
   "metadata": {},
   "source": [
    "### Model training"
   ]
  },
  {
   "cell_type": "code",
   "execution_count": 54,
   "id": "f5ddacf4-a91b-477a-b79f-d0729bba5150",
   "metadata": {},
   "outputs": [
    {
     "name": "stdout",
     "output_type": "stream",
     "text": [
      "Epoch 1/10\n",
      "\u001b[1m75/75\u001b[0m \u001b[32m━━━━━━━━━━━━━━━━━━━━\u001b[0m\u001b[37m\u001b[0m \u001b[1m564s\u001b[0m 7s/step - accuracy: 0.4933 - loss: 1.4205 - val_accuracy: 0.7658 - val_loss: 0.5271\n",
      "Epoch 2/10\n",
      "\u001b[1m75/75\u001b[0m \u001b[32m━━━━━━━━━━━━━━━━━━━━\u001b[0m\u001b[37m\u001b[0m \u001b[1m551s\u001b[0m 7s/step - accuracy: 0.7422 - loss: 0.5699 - val_accuracy: 0.7933 - val_loss: 0.4558\n",
      "Epoch 3/10\n",
      "\u001b[1m75/75\u001b[0m \u001b[32m━━━━━━━━━━━━━━━━━━━━\u001b[0m\u001b[37m\u001b[0m \u001b[1m546s\u001b[0m 7s/step - accuracy: 0.7979 - loss: 0.4748 - val_accuracy: 0.8017 - val_loss: 0.4086\n",
      "Epoch 4/10\n",
      "\u001b[1m75/75\u001b[0m \u001b[32m━━━━━━━━━━━━━━━━━━━━\u001b[0m\u001b[37m\u001b[0m \u001b[1m567s\u001b[0m 8s/step - accuracy: 0.7815 - loss: 0.4602 - val_accuracy: 0.8438 - val_loss: 0.3638\n",
      "Epoch 5/10\n",
      "\u001b[1m75/75\u001b[0m \u001b[32m━━━━━━━━━━━━━━━━━━━━\u001b[0m\u001b[37m\u001b[0m \u001b[1m544s\u001b[0m 7s/step - accuracy: 0.8247 - loss: 0.4075 - val_accuracy: 0.8592 - val_loss: 0.3423\n",
      "Epoch 6/10\n",
      "\u001b[1m75/75\u001b[0m \u001b[32m━━━━━━━━━━━━━━━━━━━━\u001b[0m\u001b[37m\u001b[0m \u001b[1m546s\u001b[0m 7s/step - accuracy: 0.8019 - loss: 0.4245 - val_accuracy: 0.8583 - val_loss: 0.3364\n",
      "Epoch 7/10\n",
      "\u001b[1m75/75\u001b[0m \u001b[32m━━━━━━━━━━━━━━━━━━━━\u001b[0m\u001b[37m\u001b[0m \u001b[1m576s\u001b[0m 8s/step - accuracy: 0.8309 - loss: 0.3972 - val_accuracy: 0.8587 - val_loss: 0.3229\n",
      "Epoch 8/10\n",
      "\u001b[1m75/75\u001b[0m \u001b[32m━━━━━━━━━━━━━━━━━━━━\u001b[0m\u001b[37m\u001b[0m \u001b[1m549s\u001b[0m 7s/step - accuracy: 0.8463 - loss: 0.3656 - val_accuracy: 0.8579 - val_loss: 0.3113\n",
      "Epoch 9/10\n",
      "\u001b[1m75/75\u001b[0m \u001b[32m━━━━━━━━━━━━━━━━━━━━\u001b[0m\u001b[37m\u001b[0m \u001b[1m615s\u001b[0m 8s/step - accuracy: 0.8286 - loss: 0.3789 - val_accuracy: 0.8654 - val_loss: 0.3148\n",
      "Epoch 10/10\n",
      "\u001b[1m75/75\u001b[0m \u001b[32m━━━━━━━━━━━━━━━━━━━━\u001b[0m\u001b[37m\u001b[0m \u001b[1m569s\u001b[0m 8s/step - accuracy: 0.8449 - loss: 0.3541 - val_accuracy: 0.8433 - val_loss: 0.3210\n"
     ]
    }
   ],
   "source": [
    "training_history = model.fit(x = training_set, validation_data = validation_set, epochs = 10)"
   ]
  },
  {
   "cell_type": "markdown",
   "id": "853d4420-4d20-4691-a547-db8263d19543",
   "metadata": {},
   "source": [
    "### Model Evaluation"
   ]
  },
  {
   "cell_type": "code",
   "execution_count": 55,
   "id": "6735f29a-6132-495f-a1e0-b6909cb19e8c",
   "metadata": {},
   "outputs": [
    {
     "name": "stdout",
     "output_type": "stream",
     "text": [
      "\u001b[1m75/75\u001b[0m \u001b[32m━━━━━━━━━━━━━━━━━━━━\u001b[0m\u001b[37m\u001b[0m \u001b[1m100s\u001b[0m 1s/step - accuracy: 0.8369 - loss: 0.3301\n"
     ]
    }
   ],
   "source": [
    "# Model Evaluation on Training set\n",
    "train_loss,train_acc = model.evaluate(training_set)"
   ]
  },
  {
   "cell_type": "code",
   "execution_count": 56,
   "id": "3412285b-a467-4d3f-867e-dfb48e1fcc2d",
   "metadata": {},
   "outputs": [
    {
     "name": "stdout",
     "output_type": "stream",
     "text": [
      "0.3210460841655731 0.8433333039283752\n"
     ]
    }
   ],
   "source": [
    "print(train_loss,train_acc)"
   ]
  },
  {
   "cell_type": "code",
   "execution_count": 58,
   "id": "17a345fb-3e83-4061-9bd5-9e11260eb3ba",
   "metadata": {},
   "outputs": [
    {
     "name": "stdout",
     "output_type": "stream",
     "text": [
      "\u001b[1m75/75\u001b[0m \u001b[32m━━━━━━━━━━━━━━━━━━━━\u001b[0m\u001b[37m\u001b[0m \u001b[1m101s\u001b[0m 1s/step - accuracy: 0.8507 - loss: 0.3083\n"
     ]
    }
   ],
   "source": [
    "# Model Evaluation on Validation set\n",
    "val_loss,val_acc = model.evaluate(validation_set)"
   ]
  },
  {
   "cell_type": "code",
   "execution_count": 59,
   "id": "ad53db7a-d7ea-44c5-9417-b667bd4d5aab",
   "metadata": {},
   "outputs": [
    {
     "name": "stdout",
     "output_type": "stream",
     "text": [
      "0.3210460841655731 0.8433333039283752\n"
     ]
    }
   ],
   "source": [
    "print(val_loss,val_acc)"
   ]
  },
  {
   "cell_type": "markdown",
   "id": "38562e8b-e0a9-4726-8e68-8e47bf9f1264",
   "metadata": {},
   "source": [
    "### Saving Model"
   ]
  },
  {
   "cell_type": "code",
   "execution_count": 60,
   "id": "331fa5b8-8f51-4844-9ece-a5ac4e5bde88",
   "metadata": {},
   "outputs": [],
   "source": [
    "model.save(\"trained_model.keras\")"
   ]
  },
  {
   "cell_type": "code",
   "execution_count": 61,
   "id": "3f5bd1b5-d72e-425c-82f2-9d335cfae084",
   "metadata": {},
   "outputs": [],
   "source": [
    "# Recording Training History in json\n",
    "import json\n",
    "with open (\"training_hist.json\", \"w\") as f:\n",
    "    json.dump(training_history.history, f)"
   ]
  },
  {
   "cell_type": "markdown",
   "id": "191fdbc5-db42-402c-b9ec-cbf3eed7b067",
   "metadata": {},
   "source": [
    "### Accuracy Visualization"
   ]
  },
  {
   "cell_type": "code",
   "execution_count": 66,
   "id": "31480779-b6cd-4412-bd2a-f3f3ef3161ba",
   "metadata": {},
   "outputs": [
    {
     "data": {
      "image/png": "[encoded data removed]",
      "text/plain": [
       "<Figure size 640x480 with 1 Axes>"
      ]
     },
     "metadata": {},
     "output_type": "display_data"
    }
   ],
   "source": [
    "epochs = [i for i in range(1,11)]\n",
    "plt.plot(epochs, training_history.history['accuracy'], color = 'red', label = 'Training Accuracy')\n",
    "plt.plot(epochs, training_history.history['val_accuracy'], color = 'blue', label = 'Validation Accuracy')\n",
    "plt.xlabel(\"No of epochs\")\n",
    "plt.ylabel(\"Accuracy Result\")\n",
    "plt.title(\"Visualization of Training and validation accuracy\")\n",
    "plt.legend()\n",
    "plt.show()"
   ]
  },
  {
   "cell_type": "markdown",
   "id": "32b6ef12-f056-4b4a-bd9c-2ee6fb93cefd",
   "metadata": {},
   "source": [
    "### Loss Visualization"
   ]
  },
  {
   "cell_type": "code",
   "execution_count": 67,
   "id": "d2d86bd3-b104-4bd1-b8a5-579d385b42e1",
   "metadata": {},
   "outputs": [
    {
     "data": {
      "image/png": "[encoded data removed]",
      "text/plain": [
       "<Figure size 640x480 with 1 Axes>"
      ]
     },
     "metadata": {},
     "output_type": "display_data"
    }
   ],
   "source": [
    "epochs = [i for i in range(1,11)]\n",
    "plt.plot(epochs, training_history.history['loss'], color = 'red', label = 'Training Loss')\n",
    "plt.plot(epochs, training_history.history['val_loss'], color = 'blue', label = 'Validation Loss')\n",
    "plt.xlabel(\"No of epochs\")\n",
    "plt.ylabel(\"Loss Result\")\n",
    "plt.title(\"Visualization of Training and validation loss\")\n",
    "plt.legend()\n",
    "plt.show()"
   ]
  },
  {
   "cell_type": "markdown",
   "id": "35788f57-cbae-4424-9900-dde73b9c63e9",
   "metadata": {},
   "source": [
    "### Other metrics for model evaluation"
   ]
  },
  {
   "cell_type": "code",
   "execution_count": 69,
   "id": "bdad744a-c676-4b3a-8d88-625ad7d9e55c",
   "metadata": {},
   "outputs": [
    {
     "data": {
      "text/plain": [
       "['Reject', 'Ripe', 'Unripe']"
      ]
     },
     "execution_count": 69,
     "metadata": {},
     "output_type": "execute_result"
    }
   ],
   "source": [
    "class_name = validation_set.class_names\n",
    "class_name"
   ]
  },
  {
   "cell_type": "code",
   "execution_count": 71,
   "id": "52440c73-52ce-4930-86cd-6ccc98a5a8ac",
   "metadata": {},
   "outputs": [
    {
     "name": "stdout",
     "output_type": "stream",
     "text": [
      "Found 2400 files belonging to 3 classes.\n"
     ]
    }
   ],
   "source": [
    "test_set =  tf.keras.utils.image_dataset_from_directory(\n",
    "    'validation',\n",
    "    labels = 'inferred',\n",
    "    label_mode = 'categorical',\n",
    "    class_names = None,\n",
    "    color_mode = 'rgb',\n",
    "    batch_size = 32,\n",
    "    image_size = (128, 128),\n",
    "    shuffle = False,\n",
    "    seed = None,\n",
    "    validation_split = None,\n",
    "    subset = None,\n",
    "    interpolation = 'bilinear',\n",
    "    follow_links = False,\n",
    "    crop_to_aspect_ratio = False,\n",
    ")\n",
    "    "
   ]
  },
  {
   "cell_type": "code",
   "execution_count": 73,
   "id": "678e917b-11a5-4ae6-b231-6561edd522ad",
   "metadata": {},
   "outputs": [
    {
     "name": "stdout",
     "output_type": "stream",
     "text": [
      "\u001b[1m75/75\u001b[0m \u001b[32m━━━━━━━━━━━━━━━━━━━━\u001b[0m\u001b[37m\u001b[0m \u001b[1m103s\u001b[0m 1s/step\n"
     ]
    },
    {
     "data": {
      "text/plain": [
       "(array([[2.4036534e-01, 7.5724506e-01, 2.3895984e-03],\n",
       "        [2.8493816e-01, 7.1221948e-01, 2.8423376e-03],\n",
       "        [8.1447130e-01, 1.8233776e-01, 3.1909682e-03],\n",
       "        ...,\n",
       "        [7.2800023e-05, 2.4469854e-08, 9.9992716e-01],\n",
       "        [8.5500869e-05, 2.5778769e-08, 9.9991453e-01],\n",
       "        [7.5286807e-05, 1.2424829e-07, 9.9992454e-01]], dtype=float32),\n",
       " (2400, 3))"
      ]
     },
     "execution_count": 73,
     "metadata": {},
     "output_type": "execute_result"
    }
   ],
   "source": [
    "y_pred = model.predict(test_set)\n",
    "y_pred, y_pred.shape"
   ]
  },
  {
   "cell_type": "code",
   "execution_count": 74,
   "id": "660a7bfe-602d-4b03-b84e-6feba9d0b1ac",
   "metadata": {},
   "outputs": [
    {
     "data": {
      "text/plain": [
       "<tf.Tensor: shape=(2400,), dtype=int64, numpy=array([1, 1, 0, ..., 2, 2, 2], dtype=int64)>"
      ]
     },
     "execution_count": 74,
     "metadata": {},
     "output_type": "execute_result"
    }
   ],
   "source": [
    "predicted_categories = tf.argmax(y_pred, axis = 1)\n",
    "predicted_categories"
   ]
  },
  {
   "cell_type": "code",
   "execution_count": 76,
   "id": "aab6f2d2-82aa-42fd-b5ee-583d0626e937",
   "metadata": {},
   "outputs": [
    {
     "data": {
      "text/plain": [
       "<tf.Tensor: shape=(2400, 3), dtype=float32, numpy=\n",
       "array([[1., 0., 0.],\n",
       "       [1., 0., 0.],\n",
       "       [1., 0., 0.],\n",
       "       ...,\n",
       "       [0., 0., 1.],\n",
       "       [0., 0., 1.],\n",
       "       [0., 0., 1.]], dtype=float32)>"
      ]
     },
     "execution_count": 76,
     "metadata": {},
     "output_type": "execute_result"
    }
   ],
   "source": [
    "true_categories = tf.concat([y for x,y in test_set], axis = 0)\n",
    "true_categories"
   ]
  },
  {
   "cell_type": "code",
   "execution_count": 77,
   "id": "f2dad1d0-43ed-412a-ba94-f95660538eb2",
   "metadata": {},
   "outputs": [
    {
     "data": {
      "text/plain": [
       "<tf.Tensor: shape=(2400,), dtype=int64, numpy=array([0, 0, 0, ..., 2, 2, 2], dtype=int64)>"
      ]
     },
     "execution_count": 77,
     "metadata": {},
     "output_type": "execute_result"
    }
   ],
   "source": [
    "Y_true = tf.argmax(true_categories, axis = 1)\n",
    "Y_true"
   ]
  },
  {
   "cell_type": "code",
   "execution_count": 82,
   "id": "717d9112-01bb-40ae-8b66-94fc3563ac01",
   "metadata": {},
   "outputs": [],
   "source": [
    "from sklearn.metrics import classification_report, confusion_matrix"
   ]
  },
  {
   "cell_type": "code",
   "execution_count": 81,
   "id": "c59572b2-f77f-4eca-bf78-a56d97c369c2",
   "metadata": {},
   "outputs": [
    {
     "name": "stdout",
     "output_type": "stream",
     "text": [
      "              precision    recall  f1-score   support\n",
      "\n",
      "      Reject       0.90      0.60      0.72       800\n",
      "        Ripe       0.72      0.93      0.81       800\n",
      "      Unripe       0.96      1.00      0.98       800\n",
      "\n",
      "    accuracy                           0.84      2400\n",
      "   macro avg       0.86      0.84      0.84      2400\n",
      "weighted avg       0.86      0.84      0.84      2400\n",
      "\n"
     ]
    }
   ],
   "source": [
    "print(classification_report(Y_true, predicted_categories, target_names = class_name))"
   ]
  },
  {
   "cell_type": "code",
   "execution_count": 87,
   "id": "0f961d12-9e96-45ad-99dd-f051f60fcac5",
   "metadata": {},
   "outputs": [
    {
     "data": {
      "text/plain": [
       "array([[480, 288,  32],\n",
       "       [ 55, 744,   1],\n",
       "       [  0,   0, 800]], dtype=int64)"
      ]
     },
     "execution_count": 87,
     "metadata": {},
     "output_type": "execute_result"
    }
   ],
   "source": [
    "cm = confusion_matrix(Y_true, predicted_categories)\n",
    "cm"
   ]
  },
  {
   "cell_type": "markdown",
   "id": "822aa0a5-2aae-4045-bb58-9fe34d0eb87d",
   "metadata": {},
   "source": [
    "### Confusion Martix Visualization"
   ]
  },
  {
   "cell_type": "code",
   "execution_count": 97,
   "id": "86a69e05-9b4d-41b5-a5ed-a6c0f0d9221b",
   "metadata": {},
   "outputs": [
    {
     "data": {
      "image/png": "[encoded data removed]",
      "text/plain": [
       "<Figure size 800x800 with 2 Axes>"
      ]
     },
     "metadata": {},
     "output_type": "display_data"
    }
   ],
   "source": [
    "plt.figure(figsize=(8, 8)) \n",
    "sns.heatmap(cm, annot=True, fmt='d', cmap='Blues') \n",
    "plt.xlabel(\"Predicted Class\")\n",
    "plt.ylabel(\"Actual Class\")\n",
    "plt.title(\"Confusion Matrix\")\n",
    "plt.show()\n"
   ]
  },
  {
   "cell_type": "code",
   "execution_count": null,
   "id": "dddd9101-11e9-49f1-b973-73ebdcc84222",
   "metadata": {},
   "outputs": [],
   "source": []
  }
 ],
 "metadata": {
  "kernelspec": {
   "display_name": "Python 3 (ipykernel)",
   "language": "python",
   "name": "python3"
  },
  "language_info": {
   "codemirror_mode": {
    "name": "ipython",
    "version": 3
   },
   "file_extension": ".py",
   "mimetype": "text/x-python",
   "name": "python",
   "nbconvert_exporter": "python",
   "pygments_lexer": "ipython3",
   "version": "3.12.4"
  }
 },
 "nbformat": 4,
 "nbformat_minor": 5
}

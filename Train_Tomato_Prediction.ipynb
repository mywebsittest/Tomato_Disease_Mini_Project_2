{
 "cells": [
  {
   "cell_type": "markdown",
   "id": "f95b26b8-5b5a-4292-942c-82e3b5ac9708",
   "metadata": {},
   "source": [
    "### Importing libraries"
   ]
  },
  {
   "cell_type": "code",
   "execution_count": 100,
   "id": "38c51c8c-3254-4e21-9788-be40268e19c2",
   "metadata": {},
   "outputs": [],
   "source": [
    "import tensorflow as tf\n",
    "import matplotlib.pyplot as plt\n",
    "import pandas as pd\n",
    "import seaborn as sns"
   ]
  },
  {
   "cell_type": "markdown",
   "id": "350de75b-ce72-41b1-9f9b-b823f83a7711",
   "metadata": {},
   "source": [
    "### Data Preprocessing"
   ]
  },
  {
   "cell_type": "markdown",
   "id": "70de35b8-fbc7-456e-a223-45053fb82c48",
   "metadata": {},
   "source": [
    "### Training Image Preprocessing"
   ]
  },
  {
   "cell_type": "code",
   "execution_count": 101,
   "id": "8b1aec0f-960d-4afc-aec3-a9c61e911a3f",
   "metadata": {},
   "outputs": [
    {
     "name": "stdout",
     "output_type": "stream",
     "text": [
      "Found 2400 files belonging to 3 classes.\n"
     ]
    }
   ],
   "source": [
    "training_set = tf.keras.utils.image_dataset_from_directory(\n",
    "    'train',\n",
    "    labels = 'inferred',\n",
    "    label_mode = 'categorical',\n",
    "    class_names = None,\n",
    "    color_mode = 'rgb',\n",
    "    batch_size = 32,\n",
    "    image_size = (128, 128),\n",
    "    shuffle = True,\n",
    "    seed = None,\n",
    "    validation_split = None,\n",
    "    subset = None,\n",
    "    interpolation = 'bilinear',\n",
    "    follow_links = False,\n",
    "    crop_to_aspect_ratio = False,\n",
    ")\n",
    "    "
   ]
  },
  {
   "cell_type": "markdown",
   "id": "39876806-bfdc-49b5-94a2-e7d6aaa3e770",
   "metadata": {},
   "source": [
    "### Validation Image Preprocessing"
   ]
  },
  {
   "cell_type": "code",
   "execution_count": 37,
   "id": "a0684ed3-ff7a-48ca-9f51-03cb1f5d89ec",
   "metadata": {},
   "outputs": [
    {
     "name": "stdout",
     "output_type": "stream",
     "text": [
      "Found 2400 files belonging to 3 classes.\n"
     ]
    }
   ],
   "source": [
    "validation_set = tf.keras.utils.image_dataset_from_directory(\n",
    "    'validation',\n",
    "    labels = 'inferred',\n",
    "    label_mode = 'categorical',\n",
    "    class_names = None,\n",
    "    color_mode = 'rgb',\n",
    "    batch_size = 32,\n",
    "    image_size = (128, 128),\n",
    "    shuffle = True,\n",
    "    seed = None,\n",
    "    validation_split = None,\n",
    "    subset = None,\n",
    "    interpolation = 'bilinear',\n",
    "    follow_links = False,\n",
    "    crop_to_aspect_ratio = False,\n",
    ")\n",
    "    "
   ]
  },
  {
   "cell_type": "code",
   "execution_count": 38,
   "id": "15665b25-c887-4e04-9044-5eb6499077ab",
   "metadata": {},
   "outputs": [
    {
     "data": {
      "text/plain": [
       "<BatchDataset element_spec=(TensorSpec(shape=(None, 128, 128, 3), dtype=tf.float32, name=None), TensorSpec(shape=(None, 3), dtype=tf.float32, name=None))>"
      ]
     },
     "execution_count": 38,
     "metadata": {},
     "output_type": "execute_result"
    }
   ],
   "source": [
    "training_set"
   ]
  },
  {
   "cell_type": "code",
   "execution_count": 39,
   "id": "208e5b03-75fd-4227-84e2-80e7704dc512",
   "metadata": {},
   "outputs": [
    {
     "name": "stdout",
     "output_type": "stream",
     "text": [
      "tf.Tensor(\n",
      "[[[[51.    61.    61.25 ]\n",
      "   [67.25  66.25  73.5  ]\n",
      "   [64.375 62.375 63.375]\n",
      "   ...\n",
      "   [42.    47.    43.   ]\n",
      "   [48.    42.    46.   ]\n",
      "   [48.    49.    44.   ]]\n",
      "\n",
      "  [[50.375 59.    58.125]\n",
      "   [60.125 61.125 63.125]\n",
      "   [66.875 66.    64.   ]\n",
      "   ...\n",
      "   [45.    44.75  45.125]\n",
      "   [49.625 45.    50.875]\n",
      "   [43.625 47.625 46.875]]\n",
      "\n",
      "  [[49.    53.    55.75 ]\n",
      "   [54.125 58.125 57.125]\n",
      "   [61.    61.    61.   ]\n",
      "   ...\n",
      "   [48.    46.    49.   ]\n",
      "   [57.125 55.125 58.125]\n",
      "   [42.125 46.125 47.125]]\n",
      "\n",
      "  ...\n",
      "\n",
      "  [[79.75  81.75  79.   ]\n",
      "   [82.875 82.875 80.875]\n",
      "   [95.    95.    87.   ]\n",
      "   ...\n",
      "   [52.75  53.75  57.75 ]\n",
      "   [53.125 54.125 56.125]\n",
      "   [52.125 54.125 53.125]]\n",
      "\n",
      "  [[72.375 73.25  77.   ]\n",
      "   [80.125 81.    83.   ]\n",
      "   [84.75  86.625 81.5  ]\n",
      "   ...\n",
      "   [49.375 53.    54.375]\n",
      "   [53.125 54.125 57.875]\n",
      "   [53.75  53.    57.625]]\n",
      "\n",
      "  [[62.5   64.75  69.75 ]\n",
      "   [64.375 67.375 74.375]\n",
      "   [64.25  68.875 71.875]\n",
      "   ...\n",
      "   [47.    51.625 48.75 ]\n",
      "   [53.625 54.625 59.625]\n",
      "   [53.375 51.375 63.625]]]\n",
      "\n",
      "\n",
      " [[[39.625 36.375 37.375]\n",
      "   [39.5   37.5   38.5  ]\n",
      "   [39.    37.75  38.375]\n",
      "   ...\n",
      "   [46.    45.    42.25 ]\n",
      "   [44.    47.    40.   ]\n",
      "   [47.625 47.25  40.375]]\n",
      "\n",
      "  [[39.875 39.875 40.125]\n",
      "   [36.75  36.875 37.125]\n",
      "   [35.75  38.    37.25 ]\n",
      "   ...\n",
      "   [46.125 45.125 40.125]\n",
      "   [45.875 47.875 43.125]\n",
      "   [46.875 45.75  44.125]]\n",
      "\n",
      "  [[39.875 39.875 41.875]\n",
      "   [34.875 35.875 37.875]\n",
      "   [32.125 36.125 37.125]\n",
      "   ...\n",
      "   [47.125 46.125 42.125]\n",
      "   [43.875 45.875 44.875]\n",
      "   [43.875 41.875 44.875]]\n",
      "\n",
      "  ...\n",
      "\n",
      "  [[60.875 60.875 60.875]\n",
      "   [68.5   68.5   66.5  ]\n",
      "   [64.75  64.75  64.75 ]\n",
      "   ...\n",
      "   [52.    54.    53.   ]\n",
      "   [50.875 52.875 51.875]\n",
      "   [50.    51.    53.   ]]\n",
      "\n",
      "  [[49.375 51.125 48.25 ]\n",
      "   [65.875 65.875 67.625]\n",
      "   [66.25  65.375 63.375]\n",
      "   ...\n",
      "   [52.    54.    53.   ]\n",
      "   [51.625 52.625 56.375]\n",
      "   [50.25  51.25  55.25 ]]\n",
      "\n",
      "  [[47.625 49.625 46.625]\n",
      "   [71.375 71.375 73.375]\n",
      "   [61.5   60.5   58.5  ]\n",
      "   ...\n",
      "   [53.625 53.625 53.625]\n",
      "   [54.875 53.875 61.125]\n",
      "   [51.75  50.75  55.75 ]]]\n",
      "\n",
      "\n",
      " [[[43.625 41.625 44.625]\n",
      "   [49.25  47.25  52.25 ]\n",
      "   [54.    53.    51.   ]\n",
      "   ...\n",
      "   [36.    35.    33.   ]\n",
      "   [37.    33.    32.   ]\n",
      "   [41.875 35.875 35.875]]\n",
      "\n",
      "  [[40.875 38.875 39.875]\n",
      "   [44.75  42.75  45.75 ]\n",
      "   [49.75  48.75  46.75 ]\n",
      "   ...\n",
      "   [34.    33.    31.   ]\n",
      "   [38.    34.    33.   ]\n",
      "   [38.125 32.125 32.125]]\n",
      "\n",
      "  [[37.25  36.25  34.25 ]\n",
      "   [40.125 38.125 41.125]\n",
      "   [40.375 38.375 39.375]\n",
      "   ...\n",
      "   [36.25  35.25  33.25 ]\n",
      "   [40.    36.    35.   ]\n",
      "   [41.    35.    35.   ]]\n",
      "\n",
      "  ...\n",
      "\n",
      "  [[64.625 58.625 58.625]\n",
      "   [67.625 61.625 61.625]\n",
      "   [79.875 71.875 69.875]\n",
      "   ...\n",
      "   [44.125 42.125 43.125]\n",
      "   [43.875 42.875 40.875]\n",
      "   [41.    40.    36.   ]]\n",
      "\n",
      "  [[55.625 53.375 56.125]\n",
      "   [59.375 55.125 56.   ]\n",
      "   [64.875 58.5   58.625]\n",
      "   ...\n",
      "   [41.125 39.125 40.125]\n",
      "   [44.    42.125 42.75 ]\n",
      "   [40.    39.    36.75 ]]\n",
      "\n",
      "  [[46.125 46.75  48.75 ]\n",
      "   [48.125 47.375 49.75 ]\n",
      "   [55.625 52.875 53.875]\n",
      "   ...\n",
      "   [40.    38.    42.25 ]\n",
      "   [40.375 38.375 40.625]\n",
      "   [40.    38.    40.25 ]]]\n",
      "\n",
      "\n",
      " ...\n",
      "\n",
      "\n",
      " [[[29.625 33.625 36.625]\n",
      "   [29.    33.    36.   ]\n",
      "   [29.625 33.625 36.625]\n",
      "   ...\n",
      "   [38.    37.    35.   ]\n",
      "   [38.    37.    35.   ]\n",
      "   [39.625 38.625 36.625]]\n",
      "\n",
      "  [[30.375 34.    37.125]\n",
      "   [28.125 31.75  34.875]\n",
      "   [28.25  31.875 35.   ]\n",
      "   ...\n",
      "   [40.    38.    39.   ]\n",
      "   [39.    37.    38.   ]\n",
      "   [37.875 35.875 36.875]]\n",
      "\n",
      "  [[34.5   35.5   37.5  ]\n",
      "   [32.875 33.875 35.875]\n",
      "   [29.75  30.75  32.75 ]\n",
      "   ...\n",
      "   [39.125 37.125 38.125]\n",
      "   [39.875 37.875 38.875]\n",
      "   [36.875 34.875 35.875]]\n",
      "\n",
      "  ...\n",
      "\n",
      "  [[48.75  48.75  46.75 ]\n",
      "   [58.    58.    56.   ]\n",
      "   [52.125 52.125 50.125]\n",
      "   ...\n",
      "   [44.    44.    44.   ]\n",
      "   [44.    43.    48.   ]\n",
      "   [44.125 43.125 49.125]]\n",
      "\n",
      "  [[42.125 42.125 42.125]\n",
      "   [62.75  62.75  62.75 ]\n",
      "   [60.75  60.75  60.75 ]\n",
      "   ...\n",
      "   [43.    44.125 45.75 ]\n",
      "   [45.    46.    50.   ]\n",
      "   [42.875 43.875 48.   ]]\n",
      "\n",
      "  [[44.    44.    44.   ]\n",
      "   [51.125 51.125 51.125]\n",
      "   [51.75  51.75  51.75 ]\n",
      "   ...\n",
      "   [43.625 44.625 49.25 ]\n",
      "   [44.    45.    47.   ]\n",
      "   [43.625 45.25  45.375]]]\n",
      "\n",
      "\n",
      " [[[59.25  60.25  54.625]\n",
      "   [65.25  64.25  69.25 ]\n",
      "   [64.625 65.25  61.375]\n",
      "   ...\n",
      "   [48.5   46.25  41.25 ]\n",
      "   [52.625 48.375 44.   ]\n",
      "   [55.    47.125 51.75 ]]\n",
      "\n",
      "  [[56.875 56.875 57.125]\n",
      "   [63.875 62.875 68.875]\n",
      "   [63.875 63.875 65.875]\n",
      "   ...\n",
      "   [49.    50.125 44.25 ]\n",
      "   [50.125 49.25  45.5  ]\n",
      "   [50.125 46.375 47.375]]\n",
      "\n",
      "  [[53.25  52.25  57.25 ]\n",
      "   [58.25  57.25  63.25 ]\n",
      "   [64.    63.    68.   ]\n",
      "   ...\n",
      "   [46.75  48.75  43.75 ]\n",
      "   [55.875 55.875 55.875]\n",
      "   [48.    48.    46.   ]]\n",
      "\n",
      "  ...\n",
      "\n",
      "  [[82.75  82.75  80.75 ]\n",
      "   [86.625 88.625 87.625]\n",
      "   [98.125 97.125 93.125]\n",
      "   ...\n",
      "   [57.75  56.75  61.75 ]\n",
      "   [55.875 54.875 59.875]\n",
      "   [56.875 55.875 60.875]]\n",
      "\n",
      "  [[78.125 79.875 78.75 ]\n",
      "   [81.    82.125 83.75 ]\n",
      "   [93.5   89.5   86.5  ]\n",
      "   ...\n",
      "   [54.875 55.875 60.75 ]\n",
      "   [55.125 56.125 61.   ]\n",
      "   [50.375 51.375 56.25 ]]\n",
      "\n",
      "  [[68.    69.    71.   ]\n",
      "   [71.125 72.125 74.125]\n",
      "   [79.25  75.25  72.25 ]\n",
      "   ...\n",
      "   [51.375 51.375 60.625]\n",
      "   [56.125 56.125 65.375]\n",
      "   [55.375 55.375 64.625]]]\n",
      "\n",
      "\n",
      " [[[28.375 28.375 28.375]\n",
      "   [29.75  29.75  29.75 ]\n",
      "   [31.375 31.375 31.375]\n",
      "   ...\n",
      "   [33.375 32.375 30.375]\n",
      "   [34.    32.    33.   ]\n",
      "   [35.625 33.625 34.625]]\n",
      "\n",
      "  [[29.875 29.875 30.125]\n",
      "   [30.875 30.875 31.125]\n",
      "   [28.875 28.875 29.125]\n",
      "   ...\n",
      "   [36.625 35.75  33.75 ]\n",
      "   [33.875 32.125 33.   ]\n",
      "   [33.    31.25  32.125]]\n",
      "\n",
      "  [[31.    31.    33.   ]\n",
      "   [31.875 31.875 33.875]\n",
      "   [27.125 27.125 29.125]\n",
      "   ...\n",
      "   [35.    35.    33.   ]\n",
      "   [33.875 33.875 33.875]\n",
      "   [35.    35.    35.   ]]\n",
      "\n",
      "  ...\n",
      "\n",
      "  [[43.75  45.75  42.75 ]\n",
      "   [46.625 51.625 47.625]\n",
      "   [42.875 49.875 42.875]\n",
      "   ...\n",
      "   [37.125 41.125 42.125]\n",
      "   [40.25  41.25  45.25 ]\n",
      "   [39.875 38.875 43.875]]\n",
      "\n",
      "  [[36.125 37.5   39.125]\n",
      "   [45.125 50.125 44.375]\n",
      "   [42.875 49.875 42.875]\n",
      "   ...\n",
      "   [37.    41.    42.   ]\n",
      "   [39.    40.    44.   ]\n",
      "   [36.125 35.125 40.125]]\n",
      "\n",
      "  [[36.625 36.375 41.   ]\n",
      "   [52.25  54.25  49.25 ]\n",
      "   [43.5   48.5   42.5  ]\n",
      "   ...\n",
      "   [37.    41.    42.   ]\n",
      "   [37.625 38.625 42.625]\n",
      "   [37.    36.    41.   ]]]], shape=(32, 128, 128, 3), dtype=float32) (32, 128, 128, 3)\n",
      "tf.Tensor(\n",
      "[[0. 1. 0.]\n",
      " [0. 1. 0.]\n",
      " [0. 0. 1.]\n",
      " [0. 0. 1.]\n",
      " [1. 0. 0.]\n",
      " [1. 0. 0.]\n",
      " [0. 0. 1.]\n",
      " [1. 0. 0.]\n",
      " [1. 0. 0.]\n",
      " [0. 1. 0.]\n",
      " [0. 1. 0.]\n",
      " [0. 0. 1.]\n",
      " [1. 0. 0.]\n",
      " [0. 0. 1.]\n",
      " [0. 0. 1.]\n",
      " [1. 0. 0.]\n",
      " [0. 0. 1.]\n",
      " [0. 1. 0.]\n",
      " [1. 0. 0.]\n",
      " [0. 0. 1.]\n",
      " [0. 1. 0.]\n",
      " [1. 0. 0.]\n",
      " [0. 0. 1.]\n",
      " [1. 0. 0.]\n",
      " [0. 0. 1.]\n",
      " [0. 0. 1.]\n",
      " [1. 0. 0.]\n",
      " [0. 1. 0.]\n",
      " [0. 1. 0.]\n",
      " [1. 0. 0.]\n",
      " [1. 0. 0.]\n",
      " [0. 0. 1.]], shape=(32, 3), dtype=float32) (32, 3)\n"
     ]
    }
   ],
   "source": [
    "for x,y in training_set:\n",
    "    print(x, x.shape)\n",
    "    print(y, y.shape)\n",
    "    break"
   ]
  },
  {
   "cell_type": "markdown",
   "id": "6e767822-a52e-4c98-8cdf-cebdf6174e34",
   "metadata": {},
   "source": [
    "### Building Model"
   ]
  },
  {
   "cell_type": "code",
   "execution_count": 40,
   "id": "8e932bed-b1af-4e77-bdf7-1ad108c2bfcd",
   "metadata": {},
   "outputs": [],
   "source": [
    "from tensorflow.keras.layers import Dense, Conv2D, MaxPool2D, Flatten, InputLayer, Dropout\n",
    "from tensorflow.keras.models import Sequential\n",
    "from keras.backend import clear_session\n",
    "clear_session()"
   ]
  },
  {
   "cell_type": "code",
   "execution_count": 41,
   "id": "424173ae-fe1f-4077-8ce1-d10c016f97e5",
   "metadata": {},
   "outputs": [],
   "source": [
    "model = Sequential()"
   ]
  },
  {
   "cell_type": "code",
   "execution_count": 42,
   "id": "c1d5cbdb-85bd-4978-b40e-528a85db9925",
   "metadata": {},
   "outputs": [],
   "source": [
    "\n",
    "# Add an InputLayer to define the input shape\n",
    "model.add(InputLayer(input_shape=(128, 128, 3)))\n",
    "\n",
    "# Add Conv2D and other layers\n",
    "model.add(Conv2D(filters=64, kernel_size=3, padding='same', activation='relu'))\n",
    "model.add(Conv2D(filters=64, kernel_size=3, activation='relu'))\n",
    "model.add(MaxPool2D(pool_size=2, strides=2))\n",
    "\n",
    "model.add(Conv2D(filters=128, kernel_size=3, padding='same', activation='relu'))\n",
    "model.add(Conv2D(filters=128, kernel_size=3, activation='relu'))\n",
    "model.add(MaxPool2D(pool_size=2, strides=2))\n",
    "\n",
    "model.add(Conv2D(filters=256, kernel_size=3, padding='same', activation='relu'))\n",
    "model.add(Conv2D(filters=256, kernel_size=3, activation='relu'))\n",
    "model.add(MaxPool2D(pool_size=2, strides=2))\n",
    "\n",
    "model.add(Conv2D(filters=512, kernel_size=3, padding='same', activation='relu'))\n",
    "model.add(Conv2D(filters=512, kernel_size=3, activation='relu'))\n",
    "model.add(MaxPool2D(pool_size=2, strides=2))\n",
    "\n",
    "model.add(Dropout(0.25))\n",
    "\n",
    "model.add(Flatten())\n",
    "model.add(Dense(units=128, activation='relu'))\n",
    "\n",
    "model.add(Dropout(0.4))\n",
    "\n",
    "model.add(Dense(units=3, activation='softmax'))  # Ensure the output layer has 3 units for your classes\n"
   ]
  },
  {
   "cell_type": "markdown",
   "id": "84833a7b-d005-46d8-943e-d1085d3cbaa6",
   "metadata": {},
   "source": [
    "### Compiling Model"
   ]
  },
  {
   "cell_type": "code",
   "execution_count": 43,
   "id": "771764f9-930c-43ba-ac74-25773c21269a",
   "metadata": {},
   "outputs": [],
   "source": [
    "model.compile(optimizer = tf.keras.optimizers.Adam(learning_rate = 0.0001), loss = 'categorical_crossentropy', metrics = ['accuracy'])"
   ]
  },
  {
   "cell_type": "code",
   "execution_count": 10,
   "id": "2310abb1-2c98-43cb-b639-926d88b9541a",
   "metadata": {},
   "outputs": [
    {
     "name": "stdout",
     "output_type": "stream",
     "text": [
      "Model: \"sequential\"\n",
      "_________________________________________________________________\n",
      " Layer (type)                Output Shape              Param #   \n",
      "=================================================================\n",
      " conv2d (Conv2D)             (None, 128, 128, 64)      1792      \n",
      "                                                                 \n",
      " conv2d_1 (Conv2D)           (None, 126, 126, 64)      36928     \n",
      "                                                                 \n",
      " max_pooling2d (MaxPooling2D  (None, 63, 63, 64)       0         \n",
      " )                                                               \n",
      "                                                                 \n",
      " conv2d_2 (Conv2D)           (None, 63, 63, 128)       73856     \n",
      "                                                                 \n",
      " conv2d_3 (Conv2D)           (None, 61, 61, 128)       147584    \n",
      "                                                                 \n",
      " max_pooling2d_1 (MaxPooling  (None, 30, 30, 128)      0         \n",
      " 2D)                                                             \n",
      "                                                                 \n",
      " conv2d_4 (Conv2D)           (None, 30, 30, 256)       295168    \n",
      "                                                                 \n",
      " conv2d_5 (Conv2D)           (None, 28, 28, 256)       590080    \n",
      "                                                                 \n",
      " max_pooling2d_2 (MaxPooling  (None, 14, 14, 256)      0         \n",
      " 2D)                                                             \n",
      "                                                                 \n",
      " conv2d_6 (Conv2D)           (None, 14, 14, 512)       1180160   \n",
      "                                                                 \n",
      " conv2d_7 (Conv2D)           (None, 12, 12, 512)       2359808   \n",
      "                                                                 \n",
      " max_pooling2d_3 (MaxPooling  (None, 6, 6, 512)        0         \n",
      " 2D)                                                             \n",
      "                                                                 \n",
      " dropout (Dropout)           (None, 6, 6, 512)         0         \n",
      "                                                                 \n",
      " flatten (Flatten)           (None, 18432)             0         \n",
      "                                                                 \n",
      " dense (Dense)               (None, 128)               2359424   \n",
      "                                                                 \n",
      " dropout_1 (Dropout)         (None, 128)               0         \n",
      "                                                                 \n",
      " dense_1 (Dense)             (None, 3)                 387       \n",
      "                                                                 \n",
      "=================================================================\n",
      "Total params: 7,045,187\n",
      "Trainable params: 7,045,187\n",
      "Non-trainable params: 0\n",
      "_________________________________________________________________\n"
     ]
    }
   ],
   "source": [
    "model.summary()"
   ]
  },
  {
   "cell_type": "markdown",
   "id": "2a6b4962-b70a-41ce-b612-df614109ac97",
   "metadata": {},
   "source": [
    "### Model training"
   ]
  },
  {
   "cell_type": "code",
   "execution_count": 66,
   "id": "f5ddacf4-a91b-477a-b79f-d0729bba5150",
   "metadata": {},
   "outputs": [
    {
     "name": "stdout",
     "output_type": "stream",
     "text": [
      "Epoch 1/30\n",
      "75/75 [==============================] - 233s 3s/step - loss: 0.1859 - accuracy: 0.9229 - val_loss: 0.1426 - val_accuracy: 0.9396\n",
      "Epoch 2/30\n",
      "75/75 [==============================] - 233s 3s/step - loss: 0.1604 - accuracy: 0.9304 - val_loss: 0.1145 - val_accuracy: 0.9542\n",
      "Epoch 3/30\n",
      "75/75 [==============================] - 231s 3s/step - loss: 0.1577 - accuracy: 0.9342 - val_loss: 0.1367 - val_accuracy: 0.9454\n",
      "Epoch 4/30\n",
      "75/75 [==============================] - 231s 3s/step - loss: 0.1760 - accuracy: 0.9212 - val_loss: 0.1114 - val_accuracy: 0.9583\n",
      "Epoch 5/30\n",
      "75/75 [==============================] - 235s 3s/step - loss: 0.1331 - accuracy: 0.9458 - val_loss: 0.1279 - val_accuracy: 0.9421\n",
      "Epoch 6/30\n",
      "75/75 [==============================] - 230s 3s/step - loss: 0.1195 - accuracy: 0.9508 - val_loss: 0.1150 - val_accuracy: 0.9471\n",
      "Epoch 7/30\n",
      "75/75 [==============================] - 230s 3s/step - loss: 0.0982 - accuracy: 0.9600 - val_loss: 0.0858 - val_accuracy: 0.9646\n",
      "Epoch 8/30\n",
      "75/75 [==============================] - 228s 3s/step - loss: 0.1214 - accuracy: 0.9533 - val_loss: 0.0721 - val_accuracy: 0.9783\n",
      "Epoch 9/30\n",
      "75/75 [==============================] - 237s 3s/step - loss: 0.0887 - accuracy: 0.9638 - val_loss: 0.1170 - val_accuracy: 0.9529\n",
      "Epoch 10/30\n",
      "75/75 [==============================] - 224s 3s/step - loss: 0.0885 - accuracy: 0.9671 - val_loss: 0.0373 - val_accuracy: 0.9887\n",
      "Epoch 11/30\n",
      "75/75 [==============================] - 224s 3s/step - loss: 0.0696 - accuracy: 0.9750 - val_loss: 0.0708 - val_accuracy: 0.9700\n",
      "Epoch 12/30\n",
      "75/75 [==============================] - 224s 3s/step - loss: 0.0621 - accuracy: 0.9767 - val_loss: 0.0320 - val_accuracy: 0.9887\n",
      "Epoch 13/30\n",
      "75/75 [==============================] - 223s 3s/step - loss: 0.0494 - accuracy: 0.9804 - val_loss: 0.0138 - val_accuracy: 0.9971\n",
      "Epoch 14/30\n",
      "75/75 [==============================] - 223s 3s/step - loss: 0.0284 - accuracy: 0.9900 - val_loss: 0.0199 - val_accuracy: 0.9942\n",
      "Epoch 15/30\n",
      "75/75 [==============================] - 223s 3s/step - loss: 0.0364 - accuracy: 0.9887 - val_loss: 0.0152 - val_accuracy: 0.9971\n",
      "Epoch 16/30\n",
      "75/75 [==============================] - 223s 3s/step - loss: 0.0316 - accuracy: 0.9887 - val_loss: 0.0081 - val_accuracy: 0.9975\n",
      "Epoch 17/30\n",
      "75/75 [==============================] - 222s 3s/step - loss: 0.0310 - accuracy: 0.9867 - val_loss: 0.0148 - val_accuracy: 0.9946\n",
      "Epoch 18/30\n",
      "75/75 [==============================] - 223s 3s/step - loss: 0.0271 - accuracy: 0.9883 - val_loss: 0.0265 - val_accuracy: 0.9900\n",
      "Epoch 19/30\n",
      "75/75 [==============================] - 224s 3s/step - loss: 0.0363 - accuracy: 0.9833 - val_loss: 0.1443 - val_accuracy: 0.9542\n",
      "Epoch 20/30\n",
      "75/75 [==============================] - 224s 3s/step - loss: 0.0482 - accuracy: 0.9808 - val_loss: 0.0109 - val_accuracy: 0.9975\n",
      "Epoch 21/30\n",
      "75/75 [==============================] - 224s 3s/step - loss: 0.0184 - accuracy: 0.9950 - val_loss: 0.0067 - val_accuracy: 0.9975\n",
      "Epoch 22/30\n",
      "75/75 [==============================] - 227s 3s/step - loss: 0.0197 - accuracy: 0.9929 - val_loss: 0.0221 - val_accuracy: 0.9883\n",
      "Epoch 23/30\n",
      "75/75 [==============================] - 229s 3s/step - loss: 0.0383 - accuracy: 0.9867 - val_loss: 0.0664 - val_accuracy: 0.9750\n",
      "Epoch 24/30\n",
      "75/75 [==============================] - 229s 3s/step - loss: 0.0413 - accuracy: 0.9875 - val_loss: 0.0558 - val_accuracy: 0.9783\n",
      "Epoch 25/30\n",
      "75/75 [==============================] - 229s 3s/step - loss: 0.0422 - accuracy: 0.9854 - val_loss: 0.0044 - val_accuracy: 0.9983\n",
      "Epoch 26/30\n",
      "75/75 [==============================] - 227s 3s/step - loss: 0.0144 - accuracy: 0.9958 - val_loss: 0.0175 - val_accuracy: 0.9937\n",
      "Epoch 27/30\n",
      "75/75 [==============================] - 230s 3s/step - loss: 0.0206 - accuracy: 0.9929 - val_loss: 0.0029 - val_accuracy: 0.9987\n",
      "Epoch 28/30\n",
      "75/75 [==============================] - 229s 3s/step - loss: 0.0051 - accuracy: 0.9975 - val_loss: 0.0026 - val_accuracy: 0.9987\n",
      "Epoch 29/30\n",
      "75/75 [==============================] - 229s 3s/step - loss: 0.0052 - accuracy: 0.9979 - val_loss: 0.0025 - val_accuracy: 0.9987\n",
      "Epoch 30/30\n",
      "75/75 [==============================] - 230s 3s/step - loss: 0.0060 - accuracy: 0.9979 - val_loss: 0.0038 - val_accuracy: 0.9983\n"
     ]
    }
   ],
   "source": [
    "training_history = model.fit(x = training_set, validation_data = validation_set, epochs = 30)"
   ]
  },
  {
   "cell_type": "markdown",
   "id": "853d4420-4d20-4691-a547-db8263d19543",
   "metadata": {},
   "source": [
    "### Model Evaluation"
   ]
  },
  {
   "cell_type": "code",
   "execution_count": 67,
   "id": "6735f29a-6132-495f-a1e0-b6909cb19e8c",
   "metadata": {},
   "outputs": [
    {
     "name": "stdout",
     "output_type": "stream",
     "text": [
      "75/75 [==============================] - 36s 478ms/step - loss: 0.0038 - accuracy: 0.9983\n"
     ]
    }
   ],
   "source": [
    "# Model Evaluation on Training set\n",
    "train_loss,train_acc = model.evaluate(training_set)"
   ]
  },
  {
   "cell_type": "code",
   "execution_count": 68,
   "id": "3412285b-a467-4d3f-867e-dfb48e1fcc2d",
   "metadata": {},
   "outputs": [
    {
     "name": "stdout",
     "output_type": "stream",
     "text": [
      "0.0038080739323049784 0.9983333349227905\n"
     ]
    }
   ],
   "source": [
    "print(train_loss,train_acc)"
   ]
  },
  {
   "cell_type": "code",
   "execution_count": 69,
   "id": "17a345fb-3e83-4061-9bd5-9e11260eb3ba",
   "metadata": {},
   "outputs": [
    {
     "name": "stdout",
     "output_type": "stream",
     "text": [
      "75/75 [==============================] - 36s 479ms/step - loss: 0.0038 - accuracy: 0.9983\n"
     ]
    }
   ],
   "source": [
    "# Model Evaluation on Validation set\n",
    "val_loss,val_acc = model.evaluate(validation_set)"
   ]
  },
  {
   "cell_type": "code",
   "execution_count": 70,
   "id": "ad53db7a-d7ea-44c5-9417-b667bd4d5aab",
   "metadata": {},
   "outputs": [
    {
     "name": "stdout",
     "output_type": "stream",
     "text": [
      "0.0038080736994743347 0.9983333349227905\n"
     ]
    }
   ],
   "source": [
    "print(val_loss,val_acc)"
   ]
  },
  {
   "cell_type": "markdown",
   "id": "38562e8b-e0a9-4726-8e68-8e47bf9f1264",
   "metadata": {},
   "source": [
    "### Saving Model"
   ]
  },
  {
   "cell_type": "code",
   "execution_count": 71,
   "id": "331fa5b8-8f51-4844-9ece-a5ac4e5bde88",
   "metadata": {},
   "outputs": [],
   "source": [
    "model.save(\"trained_model.keras\")"
   ]
  },
  {
   "cell_type": "code",
   "execution_count": 72,
   "id": "3f5bd1b5-d72e-425c-82f2-9d335cfae084",
   "metadata": {},
   "outputs": [],
   "source": [
    "# Recording Training History in json\n",
    "import json\n",
    "with open (\"training_hist.json\", \"w\") as f:\n",
    "    json.dump(training_history.history, f)"
   ]
  },
  {
   "cell_type": "markdown",
   "id": "191fdbc5-db42-402c-b9ec-cbf3eed7b067",
   "metadata": {},
   "source": [
    "### Accuracy Visualization"
   ]
  },
  {
   "cell_type": "code",
   "execution_count": 90,
   "id": "31480779-b6cd-4412-bd2a-f3f3ef3161ba",
   "metadata": {},
   "outputs": [
    {
     "data": {
      "image/png": "[encoded data removed]",
      "text/plain": [
       "<Figure size 640x480 with 1 Axes>"
      ]
     },
     "metadata": {},
     "output_type": "display_data"
    }
   ],
   "source": [
    "epochs = [i for i in range(1,31)]\n",
    "plt.plot(epochs, training_history.history['accuracy'], color = 'green', label = 'Training Accuracy')\n",
    "plt.plot(epochs, training_history.history['val_accuracy'], color = 'black', label = 'Validation Accuracy')\n",
    "plt.xlabel(\"No of epochs\")\n",
    "plt.ylabel(\"Accuracy Result\")\n",
    "plt.title(\"Visualization of Training and validation accuracy\")\n",
    "plt.legend()\n",
    "plt.show()"
   ]
  },
  {
   "cell_type": "markdown",
   "id": "32b6ef12-f056-4b4a-bd9c-2ee6fb93cefd",
   "metadata": {},
   "source": [
    "### Loss Visualization"
   ]
  },
  {
   "cell_type": "code",
   "execution_count": 89,
   "id": "d2d86bd3-b104-4bd1-b8a5-579d385b42e1",
   "metadata": {},
   "outputs": [
    {
     "data": {
      "image/png": "[encoded data removed]",
      "text/plain": [
       "<Figure size 640x480 with 1 Axes>"
      ]
     },
     "metadata": {},
     "output_type": "display_data"
    }
   ],
   "source": [
    "epochs = [i for i in range(1,31)]\n",
    "plt.plot(epochs, training_history.history['loss'], color = 'green', label = 'Training Loss')\n",
    "plt.plot(epochs, training_history.history['val_loss'], color = 'black', label = 'Validation Loss')\n",
    "plt.xlabel(\"No of epochs\")\n",
    "plt.ylabel(\"Loss Result\")\n",
    "plt.title(\"Visualization of Training and validation loss\")\n",
    "plt.legend()\n",
    "plt.show()"
   ]
  },
  {
   "cell_type": "markdown",
   "id": "35788f57-cbae-4424-9900-dde73b9c63e9",
   "metadata": {},
   "source": [
    "### Other metrics for model evaluation"
   ]
  },
  {
   "cell_type": "code",
   "execution_count": 76,
   "id": "bdad744a-c676-4b3a-8d88-625ad7d9e55c",
   "metadata": {},
   "outputs": [
    {
     "data": {
      "text/plain": [
       "['Reject', 'Ripe', 'Unripe']"
      ]
     },
     "execution_count": 76,
     "metadata": {},
     "output_type": "execute_result"
    }
   ],
   "source": [
    "class_name = validation_set.class_names\n",
    "class_name"
   ]
  },
  {
   "cell_type": "code",
   "execution_count": 77,
   "id": "52440c73-52ce-4930-86cd-6ccc98a5a8ac",
   "metadata": {},
   "outputs": [
    {
     "name": "stdout",
     "output_type": "stream",
     "text": [
      "Found 2400 files belonging to 3 classes.\n"
     ]
    }
   ],
   "source": [
    "test_set =  tf.keras.utils.image_dataset_from_directory(\n",
    "    'validation',\n",
    "    labels = 'inferred',\n",
    "    label_mode = 'categorical',\n",
    "    class_names = None,\n",
    "    color_mode = 'rgb',\n",
    "    batch_size = 32,\n",
    "    image_size = (128, 128),\n",
    "    shuffle = False,\n",
    "    seed = None,\n",
    "    validation_split = None,\n",
    "    subset = None,\n",
    "    interpolation = 'bilinear',\n",
    "    follow_links = False,\n",
    "    crop_to_aspect_ratio = False,\n",
    ")\n",
    "    "
   ]
  },
  {
   "cell_type": "code",
   "execution_count": 78,
   "id": "678e917b-11a5-4ae6-b231-6561edd522ad",
   "metadata": {},
   "outputs": [
    {
     "name": "stdout",
     "output_type": "stream",
     "text": [
      "75/75 [==============================] - 36s 473ms/step\n"
     ]
    },
    {
     "data": {
      "text/plain": [
       "(array([[9.99891341e-01, 1.07693144e-04, 9.23246546e-07],\n",
       "        [9.99902189e-01, 9.72244161e-05, 5.29480872e-07],\n",
       "        [9.99993026e-01, 6.94966548e-06, 8.15395484e-09],\n",
       "        ...,\n",
       "        [3.36144512e-09, 4.13508467e-19, 9.99999940e-01],\n",
       "        [1.36715741e-07, 6.41624228e-16, 9.99999821e-01],\n",
       "        [1.23739099e-07, 6.25299754e-15, 9.99999821e-01]], dtype=float32),\n",
       " (2400, 3))"
      ]
     },
     "execution_count": 78,
     "metadata": {},
     "output_type": "execute_result"
    }
   ],
   "source": [
    "y_pred = model.predict(test_set)\n",
    "y_pred, y_pred.shape"
   ]
  },
  {
   "cell_type": "code",
   "execution_count": 79,
   "id": "660a7bfe-602d-4b03-b84e-6feba9d0b1ac",
   "metadata": {},
   "outputs": [
    {
     "data": {
      "text/plain": [
       "<tf.Tensor: shape=(2400,), dtype=int64, numpy=array([0, 0, 0, ..., 2, 2, 2])>"
      ]
     },
     "execution_count": 79,
     "metadata": {},
     "output_type": "execute_result"
    }
   ],
   "source": [
    "predicted_categories = tf.argmax(y_pred, axis = 1)\n",
    "predicted_categories"
   ]
  },
  {
   "cell_type": "code",
   "execution_count": 80,
   "id": "aab6f2d2-82aa-42fd-b5ee-583d0626e937",
   "metadata": {},
   "outputs": [
    {
     "data": {
      "text/plain": [
       "<tf.Tensor: shape=(2400, 3), dtype=float32, numpy=\n",
       "array([[1., 0., 0.],\n",
       "       [1., 0., 0.],\n",
       "       [1., 0., 0.],\n",
       "       ...,\n",
       "       [0., 0., 1.],\n",
       "       [0., 0., 1.],\n",
       "       [0., 0., 1.]], dtype=float32)>"
      ]
     },
     "execution_count": 80,
     "metadata": {},
     "output_type": "execute_result"
    }
   ],
   "source": [
    "true_categories = tf.concat([y for x,y in test_set], axis = 0)\n",
    "true_categories"
   ]
  },
  {
   "cell_type": "code",
   "execution_count": 81,
   "id": "f2dad1d0-43ed-412a-ba94-f95660538eb2",
   "metadata": {},
   "outputs": [
    {
     "data": {
      "text/plain": [
       "<tf.Tensor: shape=(2400,), dtype=int64, numpy=array([0, 0, 0, ..., 2, 2, 2])>"
      ]
     },
     "execution_count": 81,
     "metadata": {},
     "output_type": "execute_result"
    }
   ],
   "source": [
    "Y_true = tf.argmax(true_categories, axis = 1)\n",
    "Y_true"
   ]
  },
  {
   "cell_type": "code",
   "execution_count": 82,
   "id": "717d9112-01bb-40ae-8b66-94fc3563ac01",
   "metadata": {},
   "outputs": [],
   "source": [
    "from sklearn.metrics import classification_report, confusion_matrix"
   ]
  },
  {
   "cell_type": "code",
   "execution_count": 83,
   "id": "c59572b2-f77f-4eca-bf78-a56d97c369c2",
   "metadata": {},
   "outputs": [
    {
     "name": "stdout",
     "output_type": "stream",
     "text": [
      "              precision    recall  f1-score   support\n",
      "\n",
      "      Reject       1.00      1.00      1.00       800\n",
      "        Ripe       1.00      1.00      1.00       800\n",
      "      Unripe       1.00      1.00      1.00       800\n",
      "\n",
      "    accuracy                           1.00      2400\n",
      "   macro avg       1.00      1.00      1.00      2400\n",
      "weighted avg       1.00      1.00      1.00      2400\n",
      "\n"
     ]
    }
   ],
   "source": [
    "print(classification_report(Y_true, predicted_categories, target_names = class_name))"
   ]
  },
  {
   "cell_type": "code",
   "execution_count": 86,
   "id": "0f961d12-9e96-45ad-99dd-f051f60fcac5",
   "metadata": {},
   "outputs": [
    {
     "data": {
      "text/plain": [
       "array([[798,   2,   0],\n",
       "       [  2, 798,   0],\n",
       "       [  0,   0, 800]])"
      ]
     },
     "execution_count": 86,
     "metadata": {},
     "output_type": "execute_result"
    }
   ],
   "source": [
    "cm = confusion_matrix(Y_true, predicted_categories)\n",
    "cm"
   ]
  },
  {
   "cell_type": "markdown",
   "id": "822aa0a5-2aae-4045-bb58-9fe34d0eb87d",
   "metadata": {},
   "source": [
    "### Confusion Martix Visualization"
   ]
  },
  {
   "cell_type": "markdown",
   "id": "c52ec518",
   "metadata": {},
   "source": []
  },
  {
   "cell_type": "code",
   "execution_count": 104,
   "id": "86a69e05-9b4d-41b5-a5ed-a6c0f0d9221b",
   "metadata": {},
   "outputs": [
    {
     "data": {
      "image/png": "[encoded data removed]",
      "text/plain": [
       "<Figure size 600x400 with 2 Axes>"
      ]
     },
     "metadata": {},
     "output_type": "display_data"
    }
   ],
   "source": [
    "plt.figure(figsize=(6, 4)) \n",
    "sns.heatmap(cm, annot=True, fmt='d', cmap='Oranges') \n",
    "plt.xlabel(\"Predicted Class\")\n",
    "plt.ylabel(\"Actual Class\")\n",
    "plt.title(\"Confusion Matrix\")\n",
    "plt.show()\n"
   ]
  },
  {
   "cell_type": "code",
   "execution_count": null,
   "id": "dddd9101-11e9-49f1-b973-73ebdcc84222",
   "metadata": {},
   "outputs": [],
   "source": []
  }
 ],
 "metadata": {
  "kernelspec": {
   "display_name": "Python 3 (ipykernel)",
   "language": "python",
   "name": "python3"
  },
  "language_info": {
   "codemirror_mode": {
    "name": "ipython",
    "version": 3
   },
   "file_extension": ".py",
   "mimetype": "text/x-python",
   "name": "python",
   "nbconvert_exporter": "python",
   "pygments_lexer": "ipython3",
   "version": "3.10.12"
  }
 },
 "nbformat": 4,
 "nbformat_minor": 5
}
